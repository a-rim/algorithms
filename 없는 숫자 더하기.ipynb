{
 "cells": [
  {
   "cell_type": "markdown",
   "id": "expensive-glasgow",
   "metadata": {},
   "source": [
    "#### 문제 설명\n",
    "\n",
    "0부터 9까지의 숫자 중 일부가 들어있는 배열 numbers가 매개변수로 주어집니다. numbers에서 찾을 수 없는 0부터 9까지의 숫자를 모두 찾아 더한 수를 return 하도록 solution 함수를 완성해주세요.\n",
    "\n",
    "#### 제한 사항\n",
    "- 1 ≤ numbers의 길이 ≤ 9\n",
    "- 0 ≤ numbers의 모든 수 ≤ 9\n",
    "- numbers의 모든 수는 서로 다릅니다."
   ]
  },
  {
   "cell_type": "markdown",
   "id": "written-gregory",
   "metadata": {},
   "source": [
    "#### 풀이 설명\n",
    "\n",
    "없는 숫자를 찾아서 더하는 것보다 숫자의 범위가 0~9로 정해져있으므로 0부터 9까지 더한 수인 45에서 배열에 있는 수를 빼는 것이 더 간단하다\n",
    "- 0+1+…+9는 sum(range(10))로 구할 수 있지만 매번 새로 구할 필요가 없으므로 함수의 효율화를 위해 45로 써주는 것이 더 좋다\n",
    "- 리스트에 있는 수를 더하는 것은 for문을 사용해서도 가능하지만 간단하게 sum함수를 사용할 수 있다"
   ]
  },
  {
   "cell_type": "code",
   "execution_count": 3,
   "id": "frank-lafayette",
   "metadata": {},
   "outputs": [],
   "source": [
    "def solution(numbers):\n",
    "    answer = sum(range(10))\n",
    "    for num in numbers:\n",
    "        answer -= num\n",
    "    return answer"
   ]
  },
  {
   "cell_type": "code",
   "execution_count": 5,
   "id": "weird-camera",
   "metadata": {},
   "outputs": [],
   "source": [
    "def solution(numbers):\n",
    "    answer = sum(range(10)) - sum(numbers)\n",
    "    return answer"
   ]
  },
  {
   "cell_type": "code",
   "execution_count": 5,
   "id": "welcome-product",
   "metadata": {},
   "outputs": [],
   "source": [
    "def solution(numbers):\n",
    "    answer = 45 - sum(numbers)\n",
    "    return answer"
   ]
  },
  {
   "cell_type": "code",
   "execution_count": 7,
   "id": "valuable-french",
   "metadata": {},
   "outputs": [
    {
     "data": {
      "text/plain": [
       "14"
      ]
     },
     "execution_count": 7,
     "metadata": {},
     "output_type": "execute_result"
    }
   ],
   "source": [
    "solution([1,2,3,4,6,7,8,0])"
   ]
  }
 ],
 "metadata": {
  "kernelspec": {
   "display_name": "Python 3",
   "language": "python",
   "name": "python3"
  },
  "language_info": {
   "codemirror_mode": {
    "name": "ipython",
    "version": 3
   },
   "file_extension": ".py",
   "mimetype": "text/x-python",
   "name": "python",
   "nbconvert_exporter": "python",
   "pygments_lexer": "ipython3",
   "version": "3.8.5"
  },
  "toc": {
   "base_numbering": 1,
   "nav_menu": {},
   "number_sections": true,
   "sideBar": true,
   "skip_h1_title": false,
   "title_cell": "Table of Contents",
   "title_sidebar": "Contents",
   "toc_cell": false,
   "toc_position": {},
   "toc_section_display": true,
   "toc_window_display": false
  }
 },
 "nbformat": 4,
 "nbformat_minor": 5
}
