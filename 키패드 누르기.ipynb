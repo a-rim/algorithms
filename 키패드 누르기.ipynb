{
 "cells": [
  {
   "cell_type": "markdown",
   "id": "single-verification",
   "metadata": {},
   "source": [
    "**문제 설명**\n",
    "\n",
    "스마트폰 전화 키패드의 각 칸에 다음과 같이 숫자들이 적혀 있습니다.\n",
    "이 전화 키패드에서 왼손과 오른손의 엄지손가락만을 이용해서 숫자만을 입력하려고 합니다.\n",
    "맨 처음 왼손 엄지손가락은 * 키패드에 오른손 엄지손가락은 # 키패드 위치에서 시작하며, 엄지손가락을 사용하는 규칙은 다음과 같습니다.\n",
    "\n",
    "1. 엄지손가락은 상하좌우 4가지 방향으로만 이동할 수 있으며 키패드 이동 한 칸은 거리로 1에 해당합니다.\n",
    "2. 왼쪽 열의 3개의 숫자 1, 4, 7을 입력할 때는 왼손 엄지손가락을 사용합니다.\n",
    "3. 오른쪽 열의 3개의 숫자 3, 6, 9를 입력할 때는 오른손 엄지손가락을 사용합니다.\n",
    "4. 가운데 열의 4개의 숫자 2, 5, 8, 0을 입력할 때는 두 엄지손가락의 현재 키패드의 위치에서 더 가까운 엄지손가락을 사용합니다.\n",
    "    1. 만약 두 엄지손가락의 거리가 같다면, 오른손잡이는 오른손 엄지손가락, 왼손잡이는 왼손 엄지손가락을 사용합니다.\n",
    "    \n",
    "순서대로 누를 번호가 담긴 배열 numbers, 왼손잡이인지 오른손잡이인 지를 나타내는 문자열 hand가 매개변수로 주어질 때, 각 번호를 누른 엄지손가락이 왼손인 지 오른손인 지를 나타내는 연속된 문자열 형태로 return 하도록 solution 함수를 완성해주세요."
   ]
  },
  {
   "cell_type": "markdown",
   "id": "dangerous-vaccine",
   "metadata": {},
   "source": [
    "**제한 사항**\n",
    "\n",
    "- numbers 배열의 크기는 1 이상 1,000 이하입니다.\n",
    "- numbers 배열 원소의 값은 0 이상 9 이하인 정수입니다.\n",
    "- hand는 \"left\" 또는 \"right\" 입니다.\n",
    "- \"left\"는 왼손잡이, \"right\"는 오른손잡이를 의미합니다.\n",
    "- 왼손 엄지손가락을 사용한 경우는 L, 오른손 엄지손가락을 사용한 경우는 R을 순서대로 이어붙여 문자열 형태로 return 해주세요.\n"
   ]
  },
  {
   "cell_type": "markdown",
   "id": "synthetic-contemporary",
   "metadata": {},
   "source": [
    "**입출력 예**\n",
    "\n",
    "numbers|hand|result\n",
    "---|---|---\n",
    "[1, 3, 4, 5, 8, 2, 1, 4, 5, 9, 5]|\"right\"|\"LRLLLRLLRRL\"\n",
    "[7, 0, 8, 2, 8, 3, 1, 5, 7, 6, 2]|\"left\"|\"LRLLRRLLLRR\"\n",
    "[1, 2, 3, 4, 5, 6, 7, 8, 9, 0]|\"right\"|\"LLRLLRLLRL\""
   ]
  },
  {
   "cell_type": "markdown",
   "id": "forward-hungary",
   "metadata": {},
   "source": [
    "# list 사용"
   ]
  },
  {
   "cell_type": "code",
   "execution_count": 53,
   "id": "wicked-conflict",
   "metadata": {},
   "outputs": [],
   "source": [
    "def solution(numbers, hand):\n",
    "    answer = ''\n",
    "    left, right = [3, 0], [3, 2]\n",
    "    for num in numbers:\n",
    "        if num in [1, 4, 7]:\n",
    "            answer += 'L'\n",
    "            left = [num // 3, 0]\n",
    "        elif num in [3, 6, 9]:\n",
    "            answer += 'R'\n",
    "            right = [num // 3 - 1, 2]\n",
    "        else:\n",
    "            if num == 0:\n",
    "                num = 10\n",
    "            target = [num // 3, 1]\n",
    "            l_move = abs(target[0] - left[0]) + abs(target[1] - left[1])\n",
    "            r_move = abs(target[0] - right[0]) + abs(target[1] - right[1])\n",
    "            flag = 1\n",
    "            if l_move > r_move or ((l_move == r_move) and (hand == 'right')):\n",
    "                flag = 2\n",
    "            if flag == 1:\n",
    "                answer += 'L'\n",
    "                left = [num // 3, 1]\n",
    "            else:\n",
    "                answer += 'R'\n",
    "                right = [num // 3, 1]\n",
    "    return answer"
   ]
  },
  {
   "cell_type": "code",
   "execution_count": 53,
   "id": "optical-refund",
   "metadata": {},
   "outputs": [],
   "source": [
    "def solution(numbers, hand):\n",
    "    answer = ''\n",
    "    left, right = [3, 0], [3, 2]\n",
    "    for num in numbers:\n",
    "        print(num)\n",
    "        if num in [1, 4, 7]:\n",
    "            answer += 'L'\n",
    "            left = [num // 3, 0]\n",
    "            print('L', left)\n",
    "        elif num in [3, 6, 9]:\n",
    "            answer += 'R'\n",
    "            right = [num // 3 - 1, 2]\n",
    "            print('R', right)\n",
    "        else:\n",
    "            if num == 0:\n",
    "                num = 10\n",
    "            target = [num // 3, 1]\n",
    "            l_move = abs(target[0] - left[0]) + abs(target[1] - left[1])\n",
    "            r_move = abs(target[0] - right[0]) + abs(target[1] - right[1])\n",
    "            print('target:%s, l_move:%d, r_move:%d' % (target, l_move, r_move))\n",
    "            flag = 1\n",
    "            if l_move > r_move or ((l_move == r_move) and (hand == 'right')):\n",
    "                flag = 2\n",
    "            if flag == 1:\n",
    "                answer += 'L'\n",
    "                left = [num // 3, 1]\n",
    "                print('L', left)\n",
    "            else:\n",
    "                answer += 'R'\n",
    "                right = [num // 3, 1]\n",
    "                print('R', right)\n",
    "        print()\n",
    "    return answer"
   ]
  },
  {
   "cell_type": "code",
   "execution_count": 51,
   "id": "animal-whole",
   "metadata": {},
   "outputs": [
    {
     "name": "stdout",
     "output_type": "stream",
     "text": [
      "1\n",
      "L [0, 0]\n",
      "\n",
      "3\n",
      "R [0, 2]\n",
      "\n",
      "4\n",
      "L [1, 0]\n",
      "\n",
      "5\n",
      "target:[1, 1], l_move:1, r_move:2\n",
      "L [1 1]\n",
      "\n",
      "8\n",
      "target:[2, 1], l_move:1, r_move:3\n",
      "L [2 1]\n",
      "\n",
      "2\n",
      "target:[0, 1], l_move:2, r_move:1\n",
      "R [0 1]\n",
      "\n",
      "1\n",
      "L [0, 0]\n",
      "\n",
      "4\n",
      "L [1, 0]\n",
      "\n",
      "5\n",
      "target:[1, 1], l_move:1, r_move:1\n",
      "R [1 1]\n",
      "\n",
      "9\n",
      "R [2, 2]\n",
      "\n",
      "5\n",
      "target:[1, 1], l_move:1, r_move:2\n",
      "L [1 1]\n",
      "\n"
     ]
    },
    {
     "data": {
      "text/plain": [
       "'LRLLLRLLRRL'"
      ]
     },
     "execution_count": 51,
     "metadata": {},
     "output_type": "execute_result"
    }
   ],
   "source": [
    "numbers = [1, 3, 4, 5, 8, 2, 1, 4, 5, 9, 5]\n",
    "hand = 'right'\n",
    "solution(numbers, hand)"
   ]
  },
  {
   "cell_type": "code",
   "execution_count": 54,
   "id": "fifteen-panic",
   "metadata": {},
   "outputs": [
    {
     "name": "stdout",
     "output_type": "stream",
     "text": [
      "7\n",
      "L [2, 0]\n",
      "\n",
      "0\n",
      "target:[3, 1], l_move:2, r_move:1\n",
      "R [3, 1]\n",
      "\n",
      "8\n",
      "target:[2, 1], l_move:1, r_move:1\n",
      "L [2, 1]\n",
      "\n",
      "2\n",
      "target:[0, 1], l_move:2, r_move:3\n",
      "L [0, 1]\n",
      "\n",
      "8\n",
      "target:[2, 1], l_move:2, r_move:1\n",
      "R [2, 1]\n",
      "\n",
      "3\n",
      "R [0, 2]\n",
      "\n",
      "1\n",
      "L [0, 0]\n",
      "\n",
      "5\n",
      "target:[1, 1], l_move:2, r_move:2\n",
      "L [1, 1]\n",
      "\n",
      "7\n",
      "L [2, 0]\n",
      "\n",
      "6\n",
      "R [1, 2]\n",
      "\n",
      "2\n",
      "target:[0, 1], l_move:3, r_move:2\n",
      "R [0, 1]\n",
      "\n"
     ]
    },
    {
     "data": {
      "text/plain": [
       "'LRLLRRLLLRR'"
      ]
     },
     "execution_count": 54,
     "metadata": {},
     "output_type": "execute_result"
    }
   ],
   "source": [
    "numbers = [7, 0, 8, 2, 8, 3, 1, 5, 7, 6, 2]\n",
    "hand = 'left'\n",
    "solution(numbers, hand)"
   ]
  },
  {
   "cell_type": "markdown",
   "id": "healthy-thunder",
   "metadata": {},
   "source": [
    "# numpy array 사용"
   ]
  },
  {
   "cell_type": "code",
   "execution_count": 14,
   "id": "opposite-track",
   "metadata": {},
   "outputs": [],
   "source": [
    "def solution(numbers, hand):\n",
    "    answer = ''\n",
    "    left, right = np.array([3, 0]), np.array([3, 2])\n",
    "    for num in numbers:\n",
    "        if num in [1, 4, 7]:\n",
    "            answer += 'L'\n",
    "            left = np.array([num // 3, 0])\n",
    "        elif num in [3, 6, 9]:\n",
    "            answer += 'R'\n",
    "            right = np.array([num // 3 - 1, 2])\n",
    "        else:\n",
    "            if num == 0:\n",
    "                num = 10\n",
    "            target = np.array([num // 3, 1])\n",
    "            l_move = sum(abs(target - left))\n",
    "            r_move = sum(abs(target - right))\n",
    "            flag = 1\n",
    "            if l_move > r_move or ((l_move == r_move) and (hand == 'right')):\n",
    "                flag = 2\n",
    "            if flag == 1:\n",
    "                answer += 'L'\n",
    "                left = np.array([num // 3, 1])\n",
    "            else:\n",
    "                answer += 'R'\n",
    "                right = np.array([num // 3, 1])\n",
    "    return answer"
   ]
  },
  {
   "cell_type": "code",
   "execution_count": 15,
   "id": "periodic-publication",
   "metadata": {},
   "outputs": [
    {
     "data": {
      "text/plain": [
       "'LRLLLRLLRRL'"
      ]
     },
     "execution_count": 15,
     "metadata": {},
     "output_type": "execute_result"
    }
   ],
   "source": [
    "numbers = [1, 3, 4, 5, 8, 2, 1, 4, 5, 9, 5]\n",
    "hand = 'right'\n",
    "solution(numbers, hand)"
   ]
  },
  {
   "cell_type": "markdown",
   "id": "swiss-brunswick",
   "metadata": {},
   "source": [
    "## 2, 5, 8, 0에서 왼손 오른손 판단 if문"
   ]
  },
  {
   "cell_type": "code",
   "execution_count": null,
   "id": "informed-orientation",
   "metadata": {},
   "outputs": [],
   "source": [
    "if l_move < r_move:\n",
    "    answer += 'L'\n",
    "    left = np.array([num // 3, 1])\n",
    "elif l_move > r_move:\n",
    "    answer += 'R'\n",
    "    right = np.array([num // 3, 1])\n",
    "else:\n",
    "    if hand == 'right':\n",
    "        answer += 'R'\n",
    "        right = np.array([num // 3, 1])\n",
    "    else:\n",
    "        answer += 'L'\n",
    "        left = np.array([num // 3, 1])"
   ]
  },
  {
   "cell_type": "code",
   "execution_count": null,
   "id": "substantial-board",
   "metadata": {},
   "outputs": [],
   "source": [
    "flag = 1\n",
    "if l_move > r_move:\n",
    "    flag = 2\n",
    "if (l_move == r_move) & (hand == 'right'):\n",
    "    flag = 2\n",
    "if flag == 1:\n",
    "    answer += 'L'\n",
    "    left = np.array([num // 3, 1])\n",
    "else:\n",
    "    answer += 'R'\n",
    "    right = np.array([num // 3, 1])    "
   ]
  }
 ],
 "metadata": {
  "kernelspec": {
   "display_name": "Python 3",
   "language": "python",
   "name": "python3"
  },
  "language_info": {
   "codemirror_mode": {
    "name": "ipython",
    "version": 3
   },
   "file_extension": ".py",
   "mimetype": "text/x-python",
   "name": "python",
   "nbconvert_exporter": "python",
   "pygments_lexer": "ipython3",
   "version": "3.8.5"
  },
  "toc": {
   "base_numbering": 1,
   "nav_menu": {},
   "number_sections": true,
   "sideBar": true,
   "skip_h1_title": false,
   "title_cell": "Table of Contents",
   "title_sidebar": "Contents",
   "toc_cell": false,
   "toc_position": {},
   "toc_section_display": true,
   "toc_window_display": false
  }
 },
 "nbformat": 4,
 "nbformat_minor": 5
}
