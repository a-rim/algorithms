{
 "cells": [
  {
   "cell_type": "markdown",
   "metadata": {},
   "source": [
    "# 3진법 뒤집기"
   ]
  },
  {
   "cell_type": "markdown",
   "metadata": {
    "ExecuteTime": {
     "end_time": "2021-06-13T08:38:17.543848Z",
     "start_time": "2021-06-13T08:38:17.526895Z"
    }
   },
   "source": [
    "**[문제 설명]**\n",
    "\n",
    "자연수 n이 매개변수로 주어집니다. n을 3진법 상에서 앞뒤로 뒤집은 후, 이를 다시 10진법으로 표현한 수를 return 하도록 solution 함수를 완성해주세요."
   ]
  },
  {
   "cell_type": "markdown",
   "metadata": {
    "ExecuteTime": {
     "end_time": "2021-06-13T08:38:51.384459Z",
     "start_time": "2021-06-13T08:38:51.366511Z"
    }
   },
   "source": [
    "**제한사항**\n",
    "\n",
    "- n은 1 이상 100,000,000 이하인 자연수입니다."
   ]
  },
  {
   "cell_type": "markdown",
   "metadata": {},
   "source": [
    "**입출력 예**\n",
    "\n",
    "n(10진법) -> n(3진법) -> 앞뒤 반전(3진법) -> 10진법으로 표현\n",
    "\n",
    "- 45 -> 1200 -> 0021 -> 7\n",
    "- 125 -> 11122 -> 22111 -> 229\n"
   ]
  },
  {
   "cell_type": "code",
   "execution_count": 56,
   "metadata": {
    "ExecuteTime": {
     "end_time": "2021-06-13T09:02:49.326608Z",
     "start_time": "2021-06-13T09:02:49.319626Z"
    }
   },
   "outputs": [],
   "source": [
    "n = 45"
   ]
  },
  {
   "cell_type": "markdown",
   "metadata": {},
   "source": [
    "## 3진법으로 변환\n",
    "3진법은 n을 더이상 나눌 수 없을 때까지 3으로 계속 나누면서 생기는 나머지로 이루어진다\n",
    "1. 처음에 생긴 나머지가 가장 오른쪽에 오도록 기존 문자열의 왼쪽에 새로운 나머지를 더해준다\n",
    "2. n은 3으로 나눈 몫이 된다\n",
    "3. n이 더이상 나눌 수 없을 때까지, 즉 0보다 클 때까지 계속해서 반복해준다"
   ]
  },
  {
   "cell_type": "code",
   "execution_count": 53,
   "metadata": {
    "ExecuteTime": {
     "end_time": "2021-06-13T09:02:35.963823Z",
     "start_time": "2021-06-13T09:02:35.947773Z"
    }
   },
   "outputs": [
    {
     "name": "stdout",
     "output_type": "stream",
     "text": [
      "1200\n"
     ]
    }
   ],
   "source": [
    "n3 = ''\n",
    "while n > 0:\n",
    "    n3 = str(n % 3) + n3\n",
    "    n //= 3\n",
    "\n",
    "print(n3)"
   ]
  },
  {
   "cell_type": "markdown",
   "metadata": {},
   "source": [
    "## 앞뒤 반전(3진법)\n",
    "앞뒤를 바꾸는 계산을 추가하기 보다는, 처음 3진법으로 변환하는 과정에서 순서를 바꾸어 저장해준다"
   ]
  },
  {
   "cell_type": "code",
   "execution_count": 57,
   "metadata": {
    "ExecuteTime": {
     "end_time": "2021-06-13T09:02:52.584556Z",
     "start_time": "2021-06-13T09:02:52.566604Z"
    }
   },
   "outputs": [
    {
     "name": "stdout",
     "output_type": "stream",
     "text": [
      "0021\n"
     ]
    }
   ],
   "source": [
    "n3 = ''\n",
    "while n > 0:\n",
    "    n3 += str(n % 3)\n",
    "    n //= 3\n",
    "    \n",
    "print(n3)"
   ]
  },
  {
   "cell_type": "markdown",
   "metadata": {},
   "source": [
    "## 10진법으로 표현\n",
    "3진법의 각 자리(i = 0, 1,...)는 3의 i승을 의미한다\n",
    "가장 오른쪽 끝의 자리는 3의 0승을 의미하므로 해당하는 문자열을 인덱싱하여 3**0을 곱해준다"
   ]
  },
  {
   "cell_type": "code",
   "execution_count": 67,
   "metadata": {
    "ExecuteTime": {
     "end_time": "2021-06-13T09:03:01.224444Z",
     "start_time": "2021-06-13T09:03:01.218459Z"
    }
   },
   "outputs": [
    {
     "name": "stdout",
     "output_type": "stream",
     "text": [
      "1 * 1\n",
      "3 * 2\n",
      "9 * 0\n",
      "27 * 0\n",
      "7\n"
     ]
    }
   ],
   "source": [
    "answer = 0\n",
    "for i in range(len(n3)):\n",
    "    print(3**i, '*', n3[len(n3) - i - 1])\n",
    "    answer += (3**i) * int(n3[len(n3) - i - 1])\n",
    "print(answer)"
   ]
  },
  {
   "cell_type": "markdown",
   "metadata": {},
   "source": [
    "## 함수화"
   ]
  },
  {
   "cell_type": "code",
   "execution_count": 70,
   "metadata": {
    "ExecuteTime": {
     "end_time": "2021-06-13T07:59:24.561777Z",
     "start_time": "2021-06-13T07:59:24.541829Z"
    }
   },
   "outputs": [],
   "source": [
    "def solution(n):\n",
    "    answer = 0\n",
    "    n3 = ''\n",
    "    \n",
    "    while n > 0:\n",
    "        n3 += str(n % 3)\n",
    "        n //= 3\n",
    "    \n",
    "    for i in range(len(n3)):\n",
    "        answer += (3**i) * int(n3[len(n3) - i - 1])\n",
    "    \n",
    "    return answer"
   ]
  },
  {
   "cell_type": "markdown",
   "metadata": {},
   "source": [
    "string이 아닌 list를 활용하는 것도 가능하다"
   ]
  },
  {
   "cell_type": "code",
   "execution_count": 72,
   "metadata": {
    "ExecuteTime": {
     "end_time": "2021-06-13T08:30:48.769075Z",
     "start_time": "2021-06-13T08:30:48.762474Z"
    }
   },
   "outputs": [],
   "source": [
    "def solution(n):\n",
    "    answer = 0\n",
    "    \n",
    "    n3 = []\n",
    "    while n > 0:\n",
    "        n3.insert(0, n % 3)\n",
    "        n //= 3\n",
    "    \n",
    "    for i in range(len(n3)):\n",
    "        answer += (3 ** i) * n3[i]\n",
    "    \n",
    "    return answer"
   ]
  },
  {
   "cell_type": "code",
   "execution_count": 73,
   "metadata": {
    "ExecuteTime": {
     "end_time": "2021-06-13T08:30:50.763226Z",
     "start_time": "2021-06-13T08:30:50.752194Z"
    }
   },
   "outputs": [
    {
     "data": {
      "text/plain": [
       "229"
      ]
     },
     "execution_count": 73,
     "metadata": {},
     "output_type": "execute_result"
    }
   ],
   "source": [
    "n = 125\n",
    "solution(n)"
   ]
  },
  {
   "cell_type": "code",
   "execution_count": null,
   "metadata": {},
   "outputs": [],
   "source": []
  }
 ],
 "metadata": {
  "kernelspec": {
   "display_name": "Python 3",
   "language": "python",
   "name": "python3"
  },
  "language_info": {
   "codemirror_mode": {
    "name": "ipython",
    "version": 3
   },
   "file_extension": ".py",
   "mimetype": "text/x-python",
   "name": "python",
   "nbconvert_exporter": "python",
   "pygments_lexer": "ipython3",
   "version": "3.8.5"
  },
  "toc": {
   "base_numbering": 1,
   "nav_menu": {},
   "number_sections": true,
   "sideBar": true,
   "skip_h1_title": false,
   "title_cell": "Table of Contents",
   "title_sidebar": "Contents",
   "toc_cell": false,
   "toc_position": {},
   "toc_section_display": true,
   "toc_window_display": false
  }
 },
 "nbformat": 4,
 "nbformat_minor": 4
}
