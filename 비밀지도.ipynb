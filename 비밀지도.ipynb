{
 "cells": [
  {
   "cell_type": "markdown",
   "id": "aerial-joint",
   "metadata": {},
   "source": [
    "**문제 설명**\n",
    "\n",
    "네오는 평소 프로도가 비상금을 숨겨놓는 장소를 알려줄 비밀지도를 손에 넣었다. 그런데 이 비밀지도는 숫자로 암호화되어 있어 위치를 확인하기 위해서는 암호를 해독해야 한다. 다행히 지도 암호를 해독할 방법을 적어놓은 메모도 함께 발견했다.\n",
    "\n",
    "1. 지도는 한 변의 길이가 n인 정사각형 배열 형태로, 각 칸은 \"공백\"(\" \") 또는 \"벽\"(\"#\") 두 종류로 이루어져 있다.\n",
    "2. 전체 지도는 두 장의 지도를 겹쳐서 얻을 수 있다. 각각 \"지도 1\"과 \"지도 2\"라고 하자. 지도 1 또는 지도 2 중 어느 하나라도 벽인 부분은 전체 지도에서도 벽이다. 지도 1과 지도 2에서 모두 공백인 부분은 전체 지도에서도 공백이다.\n",
    "3. \"지도 1\"과 \"지도 2\"는 각각 정수 배열로 암호화되어 있다.\n",
    "4. 암호화된 배열은 지도의 각 가로줄에서 벽 부분을 1, 공백 부분을 0으로 부호화했을 때 얻어지는 이진수에 해당하는 값의 배열이다.\n",
    "\n",
    "네오가 프로도의 비상금을 손에 넣을 수 있도록, 비밀지도의 암호를 해독하는 작업을 도와줄 프로그램을 작성하라."
   ]
  },
  {
   "cell_type": "markdown",
   "id": "amber-marsh",
   "metadata": {},
   "source": [
    "**입력 형식**\n",
    "\n",
    "입력으로 지도의 한 변 크기 n 과 2개의 정수 배열 arr1, arr2가 들어온다.\n",
    "\n",
    "- 1 ≦ n ≦ 16\n",
    "- arr1, arr2는 길이 n인 정수 배열로 주어진다.\n",
    "- 정수 배열의 각 원소 x를 이진수로 변환했을 때의 길이는 n 이하이다. 즉, 0 ≦ x ≦ 2n - 1을 만족한다.\n",
    "\n",
    "**출력 형식**\n",
    "\n",
    "원래의 비밀지도를 해독하여 '#', 공백으로 구성된 문자열 배열로 출력하라."
   ]
  },
  {
   "cell_type": "markdown",
   "id": "automatic-belly",
   "metadata": {},
   "source": [
    "**입출력 예**\n",
    "\n",
    "매개변수|값\n",
    "---|---\n",
    "n|5\n",
    "arr1|[9, 20, 28, 18, 11]\n",
    "arr2|[30, 1, 21, 17, 28]\n",
    "출력|[\"#####\",\"# # #\", \"### #\", \"# ##\", \"#####\"]\n",
    "\n",
    "매개변수|값\n",
    "---|---\n",
    "n|6\n",
    "arr1|[46, 33, 33 ,22, 31, 50]\n",
    "arr2|[27 ,56, 19, 14, 14, 10]\n",
    "출력|[\"######\", \"### #\", \"## ##\", \" #### \", \" #####\", \"### # \"]"
   ]
  },
  {
   "cell_type": "markdown",
   "id": "worthy-theorem",
   "metadata": {},
   "source": [
    "# 2의 n승 활용"
   ]
  },
  {
   "cell_type": "code",
   "execution_count": 32,
   "id": "compatible-truth",
   "metadata": {},
   "outputs": [],
   "source": [
    "def solution(n, arr1, arr2):\n",
    "    answer = []\n",
    "    for n1, n2 in zip(arr1, arr2):\n",
    "        row = ''\n",
    "        for j in range(n - 1, -1, -1):\n",
    "            num, flag = 2**j, 0\n",
    "            print(n1, n2, num)\n",
    "            if n1 >= num:\n",
    "                flag = 1\n",
    "                n1 -= num\n",
    "            if n2 >= num:\n",
    "                flag = 1\n",
    "                n2 -= num\n",
    "            if flag == 1:\n",
    "                row += '#'\n",
    "            else:\n",
    "                row += ' '\n",
    "            print(flag, row)\n",
    "        answer.append(row)\n",
    "    return answer"
   ]
  },
  {
   "cell_type": "code",
   "execution_count": 30,
   "id": "theoretical-liabilities",
   "metadata": {},
   "outputs": [],
   "source": [
    "def solution(n, arr1, arr2):\n",
    "    answer = []\n",
    "    for n1, n2 in zip(arr1, arr2):\n",
    "        row = ''\n",
    "        for j in range(n - 1, -1, -1):\n",
    "            num, flag = 2**j, 0\n",
    "            if n1 >= num:\n",
    "                flag = 1\n",
    "                n1 -= num\n",
    "            if n2 >= num:\n",
    "                flag = 1\n",
    "                n2 -= num\n",
    "            if flag == 1:\n",
    "                row += '#'\n",
    "            else:\n",
    "                row += ' '\n",
    "        answer.append(row)\n",
    "    return answer"
   ]
  },
  {
   "cell_type": "code",
   "execution_count": 33,
   "id": "circular-theorem",
   "metadata": {
    "scrolled": false
   },
   "outputs": [
    {
     "name": "stdout",
     "output_type": "stream",
     "text": [
      "46 27 32\n",
      "1 #\n",
      "14 27 16\n",
      "1 ##\n",
      "14 11 8\n",
      "1 ###\n",
      "6 3 4\n",
      "1 ####\n",
      "2 3 2\n",
      "1 #####\n",
      "0 1 1\n",
      "1 ######\n",
      "33 56 32\n",
      "1 #\n",
      "1 24 16\n",
      "1 ##\n",
      "1 8 8\n",
      "1 ###\n",
      "1 0 4\n",
      "0 ### \n",
      "1 0 2\n",
      "0 ###  \n",
      "1 0 1\n",
      "1 ###  #\n",
      "33 19 32\n",
      "1 #\n",
      "1 19 16\n",
      "1 ##\n",
      "1 3 8\n",
      "0 ## \n",
      "1 3 4\n",
      "0 ##  \n",
      "1 3 2\n",
      "1 ##  #\n",
      "1 1 1\n",
      "1 ##  ##\n",
      "22 14 32\n",
      "0  \n",
      "22 14 16\n",
      "1  #\n",
      "6 14 8\n",
      "1  ##\n",
      "6 6 4\n",
      "1  ###\n",
      "2 2 2\n",
      "1  ####\n",
      "0 0 1\n",
      "0  #### \n",
      "31 14 32\n",
      "0  \n",
      "31 14 16\n",
      "1  #\n",
      "15 14 8\n",
      "1  ##\n",
      "7 6 4\n",
      "1  ###\n",
      "3 2 2\n",
      "1  ####\n",
      "1 0 1\n",
      "1  #####\n",
      "50 10 32\n",
      "1 #\n",
      "18 10 16\n",
      "1 ##\n",
      "2 10 8\n",
      "1 ###\n",
      "2 2 4\n",
      "0 ### \n",
      "2 2 2\n",
      "1 ### #\n",
      "0 0 1\n",
      "0 ### # \n"
     ]
    },
    {
     "data": {
      "text/plain": [
       "['######', '###  #', '##  ##', ' #### ', ' #####', '### # ']"
      ]
     },
     "execution_count": 33,
     "metadata": {},
     "output_type": "execute_result"
    }
   ],
   "source": [
    "n = 6\n",
    "arr1 = [46, 33, 33 ,22, 31, 50]\n",
    "arr2 = [27 ,56, 19, 14, 14, 10]\n",
    "solution(n, arr1, arr2)"
   ]
  },
  {
   "cell_type": "markdown",
   "id": "identified-control",
   "metadata": {},
   "source": [
    "# bin 사용\n",
    "**bin(x)**\n",
    "\n",
    "정수를 0b가 앞에 붙은 이진 문자열로 변환\n",
    "\n",
    "**비트 연산**\n",
    "\n",
    "비트(이진수에서 글자 하나) 단위로 계산\n",
    "- and : &\n",
    "- or : |\n",
    "- not : ~\n",
    "- xor : ^"
   ]
  },
  {
   "cell_type": "code",
   "execution_count": 21,
   "id": "viral-nerve",
   "metadata": {},
   "outputs": [
    {
     "data": {
      "text/plain": [
       "'0b100'"
      ]
     },
     "execution_count": 21,
     "metadata": {},
     "output_type": "execute_result"
    }
   ],
   "source": [
    "bin(4)"
   ]
  },
  {
   "cell_type": "code",
   "execution_count": 28,
   "id": "altered-dividend",
   "metadata": {},
   "outputs": [
    {
     "data": {
      "text/plain": [
       "'0b11010'"
      ]
     },
     "execution_count": 28,
     "metadata": {},
     "output_type": "execute_result"
    }
   ],
   "source": [
    "bin(26)"
   ]
  },
  {
   "cell_type": "code",
   "execution_count": 29,
   "id": "continuing-conjunction",
   "metadata": {},
   "outputs": [
    {
     "data": {
      "text/plain": [
       "'0b11110'"
      ]
     },
     "execution_count": 29,
     "metadata": {},
     "output_type": "execute_result"
    }
   ],
   "source": [
    "bin(4|26)"
   ]
  },
  {
   "cell_type": "code",
   "execution_count": 52,
   "id": "attractive-plastic",
   "metadata": {},
   "outputs": [],
   "source": [
    "def solution(n, arr1, arr2):\n",
    "    answer = []\n",
    "    for n1, n2 in zip(arr1, arr2):\n",
    "        bin_or = bin(n1 | n2)[2:]\n",
    "        bin_or.rjust(n, '0')\n",
    "        print(bin_or)\n",
    "        bin_or = bin_or.replace('1', '#')\n",
    "        bin_or = bin_or.replace('0', ' ')\n",
    "        answer.append(bin_or)\n",
    "    return answer"
   ]
  },
  {
   "cell_type": "code",
   "execution_count": 53,
   "id": "imported-burning",
   "metadata": {
    "scrolled": false
   },
   "outputs": [
    {
     "name": "stdout",
     "output_type": "stream",
     "text": [
      "111111\n",
      "111001\n",
      "110011\n",
      "11110\n",
      "11111\n",
      "111010\n"
     ]
    },
    {
     "data": {
      "text/plain": [
       "['######', '###  #', '##  ##', '#### ', '#####', '### # ']"
      ]
     },
     "execution_count": 53,
     "metadata": {},
     "output_type": "execute_result"
    }
   ],
   "source": [
    "n = 6\n",
    "arr1 = [46, 33, 33 ,22, 31, 50]\n",
    "arr2 = [27 ,56, 19, 14, 14, 10]\n",
    "solution(n, arr1, arr2)"
   ]
  }
 ],
 "metadata": {
  "kernelspec": {
   "display_name": "Python 3",
   "language": "python",
   "name": "python3"
  },
  "language_info": {
   "codemirror_mode": {
    "name": "ipython",
    "version": 3
   },
   "file_extension": ".py",
   "mimetype": "text/x-python",
   "name": "python",
   "nbconvert_exporter": "python",
   "pygments_lexer": "ipython3",
   "version": "3.8.5"
  },
  "toc": {
   "base_numbering": 1,
   "nav_menu": {},
   "number_sections": true,
   "sideBar": true,
   "skip_h1_title": false,
   "title_cell": "Table of Contents",
   "title_sidebar": "Contents",
   "toc_cell": false,
   "toc_position": {},
   "toc_section_display": true,
   "toc_window_display": false
  }
 },
 "nbformat": 4,
 "nbformat_minor": 5
}
