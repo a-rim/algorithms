{
 "cells": [
  {
   "cell_type": "markdown",
   "id": "according-norman",
   "metadata": {},
   "source": [
    "**문제 설명**\n",
    "\n",
    "조이스틱으로 알파벳 이름을 완성하세요. 맨 처음엔 A로만 이루어져 있습니다.\n",
    "\n",
    "ex) 완성해야 하는 이름이 세 글자면 AAA, 네 글자면 AAAA\n",
    "\n",
    "조이스틱을 각 방향으로 움직이면 아래와 같습니다."
   ]
  },
  {
   "cell_type": "markdown",
   "id": "killing-football",
   "metadata": {},
   "source": [
    "- ▲ - 다음 알파벳\n",
    "- ▼ - 이전 알파벳 (A에서 아래쪽으로 이동하면 Z로)\n",
    "- ◀ - 커서를 왼쪽으로 이동 (첫 번째 위치에서 왼쪽으로 이동하면 마지막 문자에 커서)\n",
    "- ▶ - 커서를 오른쪽으로 이동"
   ]
  },
  {
   "cell_type": "markdown",
   "id": "sophisticated-wallpaper",
   "metadata": {},
   "source": [
    "예를 들어 아래의 방법으로 JAZ를 만들 수 있습니다.\n",
    "- 첫 번째 위치에서 조이스틱을 위로 9번 조작하여 J를 완성합니다.\n",
    "- 조이스틱을 왼쪽으로 1번 조작하여 커서를 마지막 문자 위치로 이동시킵니다.\n",
    "- 마지막 위치에서 조이스틱을 아래로 1번 조작하여 Z를 완성합니다.\n",
    "\n",
    "따라서 11번 이동시켜 \"JAZ\"를 만들 수 있고, 이때가 최소 이동입니다.\n",
    "\n",
    "만들고자 하는 이름 name이 매개변수로 주어질 때, 이름에 대해 조이스틱 조작 횟수의 최솟값을 return 하도록 solution 함수를 만드세요."
   ]
  },
  {
   "cell_type": "markdown",
   "id": "million-digit",
   "metadata": {},
   "source": [
    "**제한사항**\n",
    "- name은 알파벳 대문자로만 이루어져 있습니다.\n",
    "- name의 길이는 1 이상 20 이하입니다."
   ]
  },
  {
   "cell_type": "markdown",
   "id": "french-bumper",
   "metadata": {},
   "source": [
    "**입출력 예**\n",
    "\n",
    "name|return\n",
    "---|---\n",
    "\"JEROEN\"|56\n",
    "\"JAN\"|23"
   ]
  },
  {
   "cell_type": "markdown",
   "id": "former-injury",
   "metadata": {},
   "source": [
    "# 알파벳 이동 횟수 up/down\n",
    "- N까지는 up\n",
    "- O부터는 down"
   ]
  },
  {
   "cell_type": "code",
   "execution_count": 4,
   "id": "intended-committee",
   "metadata": {},
   "outputs": [],
   "source": [
    "alp = 'ABCDEFGHIJKLMNOPQRSTUVWXYZ'"
   ]
  },
  {
   "cell_type": "code",
   "execution_count": 6,
   "id": "active-looking",
   "metadata": {},
   "outputs": [
    {
     "data": {
      "text/plain": [
       "'N'"
      ]
     },
     "execution_count": 6,
     "metadata": {},
     "output_type": "execute_result"
    }
   ],
   "source": [
    "alp[13]"
   ]
  },
  {
   "cell_type": "code",
   "execution_count": 9,
   "id": "naval-saver",
   "metadata": {},
   "outputs": [
    {
     "data": {
      "text/plain": [
       "'O'"
      ]
     },
     "execution_count": 9,
     "metadata": {},
     "output_type": "execute_result"
    }
   ],
   "source": [
    "alp[-12]"
   ]
  },
  {
   "cell_type": "code",
   "execution_count": 10,
   "id": "dynamic-andrew",
   "metadata": {},
   "outputs": [
    {
     "data": {
      "text/plain": [
       "'N'"
      ]
     },
     "execution_count": 10,
     "metadata": {},
     "output_type": "execute_result"
    }
   ],
   "source": [
    "alp[-13]"
   ]
  },
  {
   "cell_type": "code",
   "execution_count": 11,
   "id": "informational-darkness",
   "metadata": {},
   "outputs": [
    {
     "data": {
      "text/plain": [
       "'O'"
      ]
     },
     "execution_count": 11,
     "metadata": {},
     "output_type": "execute_result"
    }
   ],
   "source": [
    "alp[14]"
   ]
  },
  {
   "cell_type": "code",
   "execution_count": 4,
   "id": "auburn-internship",
   "metadata": {},
   "outputs": [
    {
     "name": "stdout",
     "output_type": "stream",
     "text": [
      "37\n"
     ]
    }
   ],
   "source": [
    "name = 'APPLE'\n",
    "\n",
    "answer = 0\n",
    "alp = 'ABCDEFGHIJKLMNOPQRSTUVWXYZ'\n",
    "for a in name:\n",
    "    if alp.index(a) > 13:\n",
    "        answer += len(alp) - alp.index(a)\n",
    "    else:\n",
    "        answer += alp.index(a)\n",
    "print(answer)"
   ]
  },
  {
   "cell_type": "markdown",
   "id": "failing-player",
   "metadata": {},
   "source": [
    "# 커서 이동 횟수 left/right\n",
    "1. 쭉 오른쪽으로 이동 (AA-----)\n",
    "    - 맨 끝에 A가 1개 이상 연달아 있는 경우, 그 중 첫번째 A 전까지만 이동하면 된다\n",
    "    > 이동 횟수 : 첫번째 A의 index - 1\n",
    "2. 쭉 왼쪽으로 이동 (-AA-----)\n",
    "    - 처음에 A가 1개 이상 연달아 있는 경우, 그 중 마지막 A의 다음까지 왼쪽으로 이동한다\n",
    "    > 이동 횟수 : len(name) - 마지막 A의 index - 1\n",
    "3. 오른쪽으로 갔다 왼쪽으로 가기 / 왼쪽으로 갔다 오른쪽으로 가기 (---AAA----)\n",
    "    - A가 붙어 있는 것 중 개수가 가장 큰 그룹 (--AA--AAAAA---)\n",
    "    - 첫번째 A 전까지 오른쪽으로 갔다가, 왼쪽으로 되돌아간다 \n",
    "    - 마지막 A의 다음까지 왼쪽으로 이동한다\n",
    "    > 이동 횟수 : 2 * (첫번째 A의 index - 1) + (len(name) - 마지막 A의 index)\n",
    "        * 왼쪽으로 먼저 가는 경우 뒷 항에 * 2"
   ]
  },
  {
   "cell_type": "code",
   "execution_count": 22,
   "id": "labeled-disposal",
   "metadata": {},
   "outputs": [
    {
     "name": "stdout",
     "output_type": "stream",
     "text": [
      "15\n"
     ]
    }
   ],
   "source": [
    "name = 'BAACSDAAAHJEAAA'\n",
    "print(len(name))"
   ]
  },
  {
   "cell_type": "code",
   "execution_count": 28,
   "id": "proprietary-deployment",
   "metadata": {},
   "outputs": [
    {
     "name": "stdout",
     "output_type": "stream",
     "text": [
      "11\n"
     ]
    }
   ],
   "source": [
    "cnt_right = len(name) - 1\n",
    "for i in range(len(name) - 1, 0, -1):\n",
    "    if name[i] == 'A':\n",
    "        cnt_right = i - 1\n",
    "    else:\n",
    "        end = i\n",
    "        break\n",
    "print(cnt_right)"
   ]
  },
  {
   "cell_type": "code",
   "execution_count": 29,
   "id": "compound-dubai",
   "metadata": {},
   "outputs": [
    {
     "name": "stdout",
     "output_type": "stream",
     "text": [
      "12\n"
     ]
    }
   ],
   "source": [
    "cnt_left = len(name) - 1\n",
    "for i in range(1, len(name)):\n",
    "    if name[i] == 'A':\n",
    "        cnt_left = len(name) - i - 1\n",
    "    else:\n",
    "        start = i\n",
    "        break\n",
    "print(cnt_left)"
   ]
  },
  {
   "cell_type": "code",
   "execution_count": 38,
   "id": "willing-gnome",
   "metadata": {},
   "outputs": [
    {
     "name": "stdout",
     "output_type": "stream",
     "text": [
      "6 3\n",
      "5 6\n",
      "16\n"
     ]
    }
   ],
   "source": [
    "cnt_two = 20\n",
    "cnt, tmp = 0, 0\n",
    "for i in range(start + 1, end + 1):\n",
    "    if name[i] == 'A':\n",
    "        tmp += 1\n",
    "    else:\n",
    "        if tmp > cnt:\n",
    "            cnt = tmp\n",
    "            start_index = i - cnt\n",
    "        tmp = 0\n",
    "print(start_index, cnt)\n",
    "\n",
    "if cnt > 0:\n",
    "    cnt1 = start_index - 1\n",
    "    cnt2 = len(name) - (start_index + cnt)\n",
    "    print(cnt1, cnt2)\n",
    "    if cnt1 > cnt2:\n",
    "        cnt1, cnt2 = cnt2, cnt1\n",
    "    cnt_two = 2 * cnt1 + cnt2\n",
    "print(cnt_two)"
   ]
  },
  {
   "cell_type": "code",
   "execution_count": null,
   "id": "sublime-divide",
   "metadata": {},
   "outputs": [],
   "source": [
    "def solution(name):\n",
    "    answer = 0\n",
    "    alp = 'ABCDEFGHIJKLMNOPQRSTUVWXYZ'\n",
    "    for a in name:\n",
    "        if alp.index(a) > 13:\n",
    "            answer += len(alp) - alp.index(a)\n",
    "        else:\n",
    "            answer += alp.index(a)\n",
    "        \n",
    "    cnt_right, cnt_left, cnt_two = len(name) - 1, len(name) - 1, 20\n",
    "    for i in range(len(name) - 1, 0, -1):\n",
    "        if name[i] == 'A':\n",
    "            cnt_right = i - 1\n",
    "        else:\n",
    "            end = i\n",
    "            break\n",
    "            \n",
    "    for i in range(1, len(name)):\n",
    "        if name[i] == 'A':\n",
    "            cnt_left = len(name) - i - 1\n",
    "        else:\n",
    "            start = i\n",
    "            break\n",
    "            \n",
    "    cnt, tmp = 0, 0\n",
    "    for i in range(start + 1, end + 1):\n",
    "        if name[i] == 'A':\n",
    "            tmp += 1\n",
    "        else:\n",
    "            if tmp > cnt:\n",
    "                cnt = tmp\n",
    "                start_index = i - cnt\n",
    "            tmp = 0\n",
    "    if cnt > 0:\n",
    "        cnt1 = start_index - 1\n",
    "        cnt2 = len(name) - (start_index + cnt)\n",
    "        if cnt1 > cnt2:\n",
    "            cnt1, cnt2 = cnt2, cnt1\n",
    "        cnt_two = 2 * cnt1 + cnt2\n",
    "    \n",
    "    answer += min(cnt_right, cnt_left, cnt_two)\n",
    "    return answer"
   ]
  },
  {
   "cell_type": "code",
   "execution_count": 36,
   "id": "accepted-midnight",
   "metadata": {},
   "outputs": [],
   "source": [
    "def solution(name):\n",
    "    answer = 0\n",
    "    a = []\n",
    "    alp = 'ABCDEFGHIJKLMNOPQRSTUVWXYZ'\n",
    "    for i in range(len(name)):\n",
    "        if alp.index(name[i]) > 13:\n",
    "            answer += len(alp) - alp.index(name[i])\n",
    "        else:\n",
    "            answer += alp.index(name[i])\n",
    "        if name[i] == 'A':\n",
    "            a.append(i)\n",
    "    print(answer)\n",
    "    \n",
    "    start, end, mid, tmp = 0, 0, 0, 0\n",
    "    for i in range(1, len(name)):\n",
    "        if name[i] == 'A':\n",
    "            start = i\n",
    "        else:\n",
    "            break\n",
    "    for i in range(1, len(name)):\n",
    "        if name[-i] == 'A':\n",
    "            end = i\n",
    "        else:\n",
    "            break\n",
    "    for i in range(start+2, len(name)-end):  # len(name)-end-1까지 보면되지만 tmp -> mid 하려면 하나 더 해야함\n",
    "        if name[i] == 'A':\n",
    "            tmp += 1\n",
    "            print(tmp)\n",
    "        else:\n",
    "            if tmp > mid:\n",
    "                mid = tmp\n",
    "                index = i - tmp\n",
    "            tmp = 0\n",
    "    \n",
    "    if mid > 0:\n",
    "        a = index -1                   # 오른쪽 칸 수\n",
    "        b = len(name) - (index + mid)  # 왼쪽 칸 수\n",
    "        if a > b:                      # 작은수가 a가 되도록\n",
    "            a, b = b, a\n",
    "        cnt_mid = 2 * a + b\n",
    "    else:\n",
    "        cnt_mid = 100\n",
    "    \n",
    "    cnt_start = len(name) - (start + 1)\n",
    "    cnt_end = len(name) - (end + 1)\n",
    "    answer += min(cnt_start, cnt_end, cnt_mid)\n",
    "      \n",
    "    return answer"
   ]
  },
  {
   "cell_type": "markdown",
   "id": "veterinary-shoot",
   "metadata": {},
   "source": [
    "# 틀린 풀이"
   ]
  },
  {
   "cell_type": "code",
   "execution_count": 2,
   "id": "respected-salon",
   "metadata": {},
   "outputs": [],
   "source": [
    "# 90.9 -> 양끝의 연달은 A의 개수를 비교해서 어느방향으로 이동할지 정해야함\n",
    "def solution(name):\n",
    "    answer = 0\n",
    "    alp = 'ABCDEFGHIJKLMNOPQRSTUVWXYZ'\n",
    "    for i in name:\n",
    "        if alp.index(i) > 13:\n",
    "            answer += len(alp) - alp.index(i)\n",
    "        else:\n",
    "            answer += alp.index(i)\n",
    "    if name[1] == 'A':\n",
    "        tmp = 1\n",
    "        for i in range(2, len(name)):\n",
    "            if name[i] == 'A':\n",
    "                tmp = i\n",
    "            else:\n",
    "                break\n",
    "        answer += len(name) - (tmp + 1)\n",
    "    else:\n",
    "        tmp = len(name)\n",
    "        for i in range(len(name)-1, 0, -1):\n",
    "            if name[i] == 'A':\n",
    "                tmp = i\n",
    "            else:\n",
    "                break\n",
    "        answer += tmp - 1\n",
    "    return answer"
   ]
  },
  {
   "cell_type": "code",
   "execution_count": 19,
   "id": "close-twins",
   "metadata": {},
   "outputs": [],
   "source": [
    "# 90.9 -> 중간에 A가 많아 왔다갔다해야하는 경우 고려x\n",
    "def solution(name):\n",
    "    answer = 0\n",
    "    alp = 'ABCDEFGHIJKLMNOPQRSTUVWXYZ'\n",
    "    for i in name:\n",
    "        if alp.index(i) > 13:\n",
    "            answer += len(alp) - alp.index(i)\n",
    "            print('[%s]' % i, -(len(alp) - alp.index(i)))\n",
    "        else:\n",
    "            answer += alp.index(i)\n",
    "            print('[%s]' % i, alp.index(i))\n",
    "    \n",
    "    start = 0\n",
    "    end = 0\n",
    "    for i in range(1, len(name)):\n",
    "        if name[i] == 'A':\n",
    "            start = i\n",
    "        else:\n",
    "            break\n",
    "    for i in range(1, len(name)):\n",
    "        if name[-i] == 'A':\n",
    "            end = i\n",
    "        else:\n",
    "            break\n",
    "    print('start : %d, end : %d' % (start, end))\n",
    "    \n",
    "    if start > end:\n",
    "        answer += len(name) - (start + 1)\n",
    "        print('+', len(name) - (start + 1))\n",
    "    else:\n",
    "        answer += len(name) - (end + 1)\n",
    "        print('+', len(name) - (end + 1))\n",
    "    \n",
    "    return answer"
   ]
  },
  {
   "cell_type": "code",
   "execution_count": 20,
   "id": "chubby-dubai",
   "metadata": {},
   "outputs": [
    {
     "name": "stdout",
     "output_type": "stream",
     "text": [
      "[A] 0\n",
      "[A] 0\n",
      "[C] 2\n",
      "[I] 8\n",
      "[N] 13\n",
      "[A] 0\n",
      "[U] -6\n",
      "[W] -4\n",
      "[A] 0\n",
      "[A] 0\n",
      "[A] 0\n",
      "start : 1, end : 3\n",
      "+ 7\n"
     ]
    },
    {
     "data": {
      "text/plain": [
       "40"
      ]
     },
     "execution_count": 20,
     "metadata": {},
     "output_type": "execute_result"
    }
   ],
   "source": [
    "solution('AACINAUWAAA')"
   ]
  }
 ],
 "metadata": {
  "kernelspec": {
   "display_name": "Python 3",
   "language": "python",
   "name": "python3"
  },
  "language_info": {
   "codemirror_mode": {
    "name": "ipython",
    "version": 3
   },
   "file_extension": ".py",
   "mimetype": "text/x-python",
   "name": "python",
   "nbconvert_exporter": "python",
   "pygments_lexer": "ipython3",
   "version": "3.8.5"
  },
  "toc": {
   "base_numbering": 1,
   "nav_menu": {},
   "number_sections": true,
   "sideBar": true,
   "skip_h1_title": false,
   "title_cell": "Table of Contents",
   "title_sidebar": "Contents",
   "toc_cell": false,
   "toc_position": {},
   "toc_section_display": true,
   "toc_window_display": false
  }
 },
 "nbformat": 4,
 "nbformat_minor": 5
}
