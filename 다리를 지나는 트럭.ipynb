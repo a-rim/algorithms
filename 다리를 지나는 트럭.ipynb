{
 "cells": [
  {
   "cell_type": "markdown",
   "metadata": {},
   "source": [
    "**문제 설명**\n",
    "\n",
    "트럭 여러 대가 강을 가로지르는 일 차선 다리를 정해진 순으로 건너려 합니다. 모든 트럭이 다리를 건너려면 최소 몇 초가 걸리는지 알아내야 합니다. 트럭은 1초에 1만큼 움직이며, 다리 길이는 bridge_length이고 다리는 무게 weight까지 견딥니다.\n",
    "※ 트럭이 다리에 완전히 오르지 않은 경우, 이 트럭의 무게는 고려하지 않습니다.\n",
    "\n",
    "예를 들어, 길이가 2이고 10kg 무게를 견디는 다리가 있습니다. 무게가 [7, 4, 5, 6]kg인 트럭이 순서대로 최단 시간 안에 다리를 건너려면 다음과 같이 건너야 합니다."
   ]
  },
  {
   "cell_type": "markdown",
   "metadata": {},
   "source": [
    "경과 시간|다리를 지난 트럭|다리를 건너는 트럭|대기 트럭\n",
    "--------|---------|----------|---------\n",
    "0|[]|[]|[7,4,5,6]\n",
    "1~2|[]|[7]|[4,5,6]\n",
    "3|[7]|[4]|[5,6]\n",
    "4|[7]|[4,5]|[6]\n",
    "5|[7,4]|[5]|[6]\n",
    "6~7|[7,4,5]|[6]|[]\n",
    "8|[7,4,5,6]|[]|[]\n",
    "\n",
    "따라서, 모든 트럭이 다리를 지나려면 최소 8초가 걸립니다.\n",
    "\n",
    "solution 함수의 매개변수로 다리에 올라갈 수 있는 트럭 수 bridge_length, 다리가 견딜 수 있는 무게 weight, 트럭 별 무게 truck_weights가 주어집니다. 이때 모든 트럭이 다리를 건너려면 최소 몇 초가 걸리는지 return 하도록 solution 함수를 완성하세요."
   ]
  },
  {
   "cell_type": "markdown",
   "metadata": {},
   "source": [
    "**제한 조건**\n",
    "- bridge_length는 1 이상 10,000 이하입니다.\n",
    "- weight는 1 이상 10,000 이하입니다.\n",
    "- truck_weights의 길이는 1 이상 10,000 이하입니다.\n",
    "- 모든 트럭의 무게는 1 이상 weight 이하입니다."
   ]
  },
  {
   "cell_type": "markdown",
   "metadata": {},
   "source": [
    "**입출력 예**\n",
    "\n",
    "bridge_length|weight|truck_weights|return\n",
    "-----------|-----------|----------|----------\n",
    "2|10|[7,4,5,6]|8\n",
    "100|100|[10]|101\n",
    "100|100|[10,10,10,10,10,10,10,10,10,10]|110"
   ]
  },
  {
   "cell_type": "markdown",
   "metadata": {},
   "source": [
    "# queue\n",
    "- 목록 한쪽 끝에서만 자료를 넣고 다른 한쪽 끝에서만 자료를 뺄 수 있는 구조\n",
    "- 선입 선출, FIFO(First In First Out)\n",
    "- 새로운 데이터가 들어오면 큐의 끝에 추가되며(enqueue), 삭제될 때는 첫번째 위치의 데이터가 삭제됨(dequeue)"
   ]
  },
  {
   "cell_type": "code",
   "execution_count": 12,
   "metadata": {},
   "outputs": [],
   "source": [
    "import time"
   ]
  },
  {
   "cell_type": "markdown",
   "metadata": {},
   "source": [
    "## list 사용\n",
    "- append로 리스트의 맨 뒤에 in\n",
    "- del list[0] : 맨 앞에 있는 요소(가장 먼저 in된 것) out\n",
    "- 트럭이 다리 길이만큼의 리스트를 지나가야하므로 무게 제한으로 트럭이 새로 in 하지 못할 때는 0을 in 해줘야 다리 길이가 유지된다"
   ]
  },
  {
   "cell_type": "code",
   "execution_count": 29,
   "metadata": {},
   "outputs": [],
   "source": [
    "def solution(bridge_length, weight, truck_weights):\n",
    "    answer = 0\n",
    "    bridge = [0 for i in range(bridge_length)]\n",
    "    while truck_weights:\n",
    "        del bridge[0]\n",
    "        if sum(bridge) + truck_weights[0] <= weight:\n",
    "            bridge.append(truck_weights[0])\n",
    "            del truck_weights[0]\n",
    "        else:\n",
    "            bridge.append(0)\n",
    "        answer += 1\n",
    "        print(answer, bridge, truck_weights)\n",
    "    answer += bridge_length\n",
    "    return answer "
   ]
  },
  {
   "cell_type": "code",
   "execution_count": 4,
   "metadata": {},
   "outputs": [
    {
     "name": "stdout",
     "output_type": "stream",
     "text": [
      "1 [0, 7] [4, 5, 6]\n",
      "2 [7, 0] [4, 5, 6]\n",
      "3 [0, 4] [5, 6]\n",
      "4 [4, 5] [6]\n",
      "5 [5, 0] [6]\n",
      "6 [0, 6] []\n"
     ]
    },
    {
     "data": {
      "text/plain": [
       "8"
      ]
     },
     "execution_count": 4,
     "metadata": {},
     "output_type": "execute_result"
    }
   ],
   "source": [
    "bridge_length = 2\n",
    "weight = 10\n",
    "truck_weights = [7,4,5,6]\n",
    "solution(bridge_length, weight, truck_weights)"
   ]
  },
  {
   "cell_type": "code",
   "execution_count": 30,
   "metadata": {},
   "outputs": [
    {
     "name": "stdout",
     "output_type": "stream",
     "text": [
      "1 [0, 0, 0, 0, 0, 0, 0, 0, 0, 7] [2, 4, 5, 1, 8, 6]\n",
      "2 [0, 0, 0, 0, 0, 0, 0, 0, 7, 2] [4, 5, 1, 8, 6]\n",
      "3 [0, 0, 0, 0, 0, 0, 0, 7, 2, 0] [4, 5, 1, 8, 6]\n",
      "4 [0, 0, 0, 0, 0, 0, 7, 2, 0, 0] [4, 5, 1, 8, 6]\n",
      "5 [0, 0, 0, 0, 0, 7, 2, 0, 0, 0] [4, 5, 1, 8, 6]\n",
      "6 [0, 0, 0, 0, 7, 2, 0, 0, 0, 0] [4, 5, 1, 8, 6]\n",
      "7 [0, 0, 0, 7, 2, 0, 0, 0, 0, 0] [4, 5, 1, 8, 6]\n",
      "8 [0, 0, 7, 2, 0, 0, 0, 0, 0, 0] [4, 5, 1, 8, 6]\n",
      "9 [0, 7, 2, 0, 0, 0, 0, 0, 0, 0] [4, 5, 1, 8, 6]\n",
      "10 [7, 2, 0, 0, 0, 0, 0, 0, 0, 0] [4, 5, 1, 8, 6]\n",
      "11 [2, 0, 0, 0, 0, 0, 0, 0, 0, 4] [5, 1, 8, 6]\n",
      "12 [0, 0, 0, 0, 0, 0, 0, 0, 4, 5] [1, 8, 6]\n",
      "13 [0, 0, 0, 0, 0, 0, 0, 4, 5, 1] [8, 6]\n",
      "14 [0, 0, 0, 0, 0, 0, 4, 5, 1, 0] [8, 6]\n",
      "15 [0, 0, 0, 0, 0, 4, 5, 1, 0, 0] [8, 6]\n",
      "16 [0, 0, 0, 0, 4, 5, 1, 0, 0, 0] [8, 6]\n",
      "17 [0, 0, 0, 4, 5, 1, 0, 0, 0, 0] [8, 6]\n",
      "18 [0, 0, 4, 5, 1, 0, 0, 0, 0, 0] [8, 6]\n",
      "19 [0, 4, 5, 1, 0, 0, 0, 0, 0, 0] [8, 6]\n",
      "20 [4, 5, 1, 0, 0, 0, 0, 0, 0, 0] [8, 6]\n",
      "21 [5, 1, 0, 0, 0, 0, 0, 0, 0, 0] [8, 6]\n",
      "22 [1, 0, 0, 0, 0, 0, 0, 0, 0, 8] [6]\n",
      "23 [0, 0, 0, 0, 0, 0, 0, 0, 8, 0] [6]\n",
      "24 [0, 0, 0, 0, 0, 0, 0, 8, 0, 0] [6]\n",
      "25 [0, 0, 0, 0, 0, 0, 8, 0, 0, 0] [6]\n",
      "26 [0, 0, 0, 0, 0, 8, 0, 0, 0, 0] [6]\n",
      "27 [0, 0, 0, 0, 8, 0, 0, 0, 0, 0] [6]\n",
      "28 [0, 0, 0, 8, 0, 0, 0, 0, 0, 0] [6]\n",
      "29 [0, 0, 8, 0, 0, 0, 0, 0, 0, 0] [6]\n",
      "30 [0, 8, 0, 0, 0, 0, 0, 0, 0, 0] [6]\n",
      "31 [8, 0, 0, 0, 0, 0, 0, 0, 0, 0] [6]\n",
      "32 [0, 0, 0, 0, 0, 0, 0, 0, 0, 6] []\n",
      "42\n",
      "0.0029900074005126953\n"
     ]
    }
   ],
   "source": [
    "start_time = time.time()\n",
    "bridge_length = 10\n",
    "weight = 10\n",
    "truck_weights = [7,2,4,5,1,8,6]\n",
    "print(solution(bridge_length, weight, truck_weights))\n",
    "print(time.time() - start_time)"
   ]
  },
  {
   "cell_type": "code",
   "execution_count": 61,
   "metadata": {},
   "outputs": [],
   "source": [
    "def solution(bridge_length, weight, truck_weights):\n",
    "    answer = 0\n",
    "    bridge = [0 for i in range(bridge_length)]\n",
    "    while truck_weights:\n",
    "        bridge.pop()\n",
    "        if truck_weights[0] + sum(bridge) <= weight:\n",
    "            bridge.insert(0, truck_weights.pop(0))\n",
    "        else:\n",
    "            bridge.insert(0,0)\n",
    "        answer += 1\n",
    "    answer += bridge_length\n",
    "    return answer"
   ]
  },
  {
   "cell_type": "markdown",
   "metadata": {},
   "source": [
    "## collections 모듈의 deque 사용\n"
   ]
  },
  {
   "cell_type": "code",
   "execution_count": 26,
   "metadata": {},
   "outputs": [],
   "source": [
    "from collections import deque\n",
    "\n",
    "def solution(bridge_length, weight, truck_weights):\n",
    "    answer = 0\n",
    "    bridge = deque([0 for i in range(bridge_length)])\n",
    "    while truck_weights:\n",
    "        bridge.popleft()\n",
    "        if truck_weights[0] + sum(bridge) <= weight:\n",
    "            bridge.append(truck_weights.pop(0))\n",
    "        else:\n",
    "            bridge.append(0)\n",
    "        answer += 1\n",
    "        print(answer, bridge, truck_weights)\n",
    "    answer += bridge_length\n",
    "    return answer"
   ]
  },
  {
   "cell_type": "code",
   "execution_count": 28,
   "metadata": {},
   "outputs": [
    {
     "name": "stdout",
     "output_type": "stream",
     "text": [
      "1 deque([0, 0, 0, 0, 0, 0, 0, 0, 0, 7]) [2, 4, 5, 1, 8, 6]\n",
      "2 deque([0, 0, 0, 0, 0, 0, 0, 0, 7, 2]) [4, 5, 1, 8, 6]\n",
      "3 deque([0, 0, 0, 0, 0, 0, 0, 7, 2, 0]) [4, 5, 1, 8, 6]\n",
      "4 deque([0, 0, 0, 0, 0, 0, 7, 2, 0, 0]) [4, 5, 1, 8, 6]\n",
      "5 deque([0, 0, 0, 0, 0, 7, 2, 0, 0, 0]) [4, 5, 1, 8, 6]\n",
      "6 deque([0, 0, 0, 0, 7, 2, 0, 0, 0, 0]) [4, 5, 1, 8, 6]\n",
      "7 deque([0, 0, 0, 7, 2, 0, 0, 0, 0, 0]) [4, 5, 1, 8, 6]\n",
      "8 deque([0, 0, 7, 2, 0, 0, 0, 0, 0, 0]) [4, 5, 1, 8, 6]\n",
      "9 deque([0, 7, 2, 0, 0, 0, 0, 0, 0, 0]) [4, 5, 1, 8, 6]\n",
      "10 deque([7, 2, 0, 0, 0, 0, 0, 0, 0, 0]) [4, 5, 1, 8, 6]\n",
      "11 deque([2, 0, 0, 0, 0, 0, 0, 0, 0, 4]) [5, 1, 8, 6]\n",
      "12 deque([0, 0, 0, 0, 0, 0, 0, 0, 4, 5]) [1, 8, 6]\n",
      "13 deque([0, 0, 0, 0, 0, 0, 0, 4, 5, 1]) [8, 6]\n",
      "14 deque([0, 0, 0, 0, 0, 0, 4, 5, 1, 0]) [8, 6]\n",
      "15 deque([0, 0, 0, 0, 0, 4, 5, 1, 0, 0]) [8, 6]\n",
      "16 deque([0, 0, 0, 0, 4, 5, 1, 0, 0, 0]) [8, 6]\n",
      "17 deque([0, 0, 0, 4, 5, 1, 0, 0, 0, 0]) [8, 6]\n",
      "18 deque([0, 0, 4, 5, 1, 0, 0, 0, 0, 0]) [8, 6]\n",
      "19 deque([0, 4, 5, 1, 0, 0, 0, 0, 0, 0]) [8, 6]\n",
      "20 deque([4, 5, 1, 0, 0, 0, 0, 0, 0, 0]) [8, 6]\n",
      "21 deque([5, 1, 0, 0, 0, 0, 0, 0, 0, 0]) [8, 6]\n",
      "22 deque([1, 0, 0, 0, 0, 0, 0, 0, 0, 8]) [6]\n",
      "23 deque([0, 0, 0, 0, 0, 0, 0, 0, 8, 0]) [6]\n",
      "24 deque([0, 0, 0, 0, 0, 0, 0, 8, 0, 0]) [6]\n",
      "25 deque([0, 0, 0, 0, 0, 0, 8, 0, 0, 0]) [6]\n",
      "26 deque([0, 0, 0, 0, 0, 8, 0, 0, 0, 0]) [6]\n",
      "27 deque([0, 0, 0, 0, 8, 0, 0, 0, 0, 0]) [6]\n",
      "28 deque([0, 0, 0, 8, 0, 0, 0, 0, 0, 0]) [6]\n",
      "29 deque([0, 0, 8, 0, 0, 0, 0, 0, 0, 0]) [6]\n",
      "30 deque([0, 8, 0, 0, 0, 0, 0, 0, 0, 0]) [6]\n",
      "31 deque([8, 0, 0, 0, 0, 0, 0, 0, 0, 0]) [6]\n",
      "32 deque([0, 0, 0, 0, 0, 0, 0, 0, 0, 6]) []\n",
      "42\n",
      "0.0049855709075927734\n"
     ]
    }
   ],
   "source": [
    "start_time = time.time()\n",
    "bridge_length = 10\n",
    "weight = 10\n",
    "truck_weights = [7,2,4,5,1,8,6]\n",
    "print(solution(bridge_length, weight, truck_weights))\n",
    "print(time.time() - start_time)"
   ]
  }
 ],
 "metadata": {
  "kernelspec": {
   "display_name": "Python 3",
   "language": "python",
   "name": "python3"
  },
  "language_info": {
   "codemirror_mode": {
    "name": "ipython",
    "version": 3
   },
   "file_extension": ".py",
   "mimetype": "text/x-python",
   "name": "python",
   "nbconvert_exporter": "python",
   "pygments_lexer": "ipython3",
   "version": "3.8.5"
  },
  "toc": {
   "base_numbering": 1,
   "nav_menu": {},
   "number_sections": true,
   "sideBar": true,
   "skip_h1_title": false,
   "title_cell": "Table of Contents",
   "title_sidebar": "Contents",
   "toc_cell": false,
   "toc_position": {},
   "toc_section_display": true,
   "toc_window_display": false
  }
 },
 "nbformat": 4,
 "nbformat_minor": 4
}
