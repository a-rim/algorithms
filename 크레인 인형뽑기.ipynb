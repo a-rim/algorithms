{
 "cells": [
  {
   "cell_type": "code",
   "execution_count": 5,
   "metadata": {},
   "outputs": [],
   "source": [
    "def solution(board, moves):\n",
    "    answer = 0\n",
    "    box = []\n",
    "    for i in moves:\n",
    "        #print('move to', i-1)\n",
    "        for j in range(len(board)):\n",
    "            #print('check row', j)\n",
    "            if board[j][i - 1] > 0:\n",
    "                #print('find')\n",
    "                box.append(board[j][i - 1])\n",
    "                board[j][i - 1] = 0\n",
    "                #print(box)\n",
    "                break\n",
    "        if len(box) > 1:\n",
    "            if box[-1] == box[-2]:\n",
    "                answer += 2\n",
    "                del box[-2:]\n",
    "    return answer"
   ]
  },
  {
   "cell_type": "code",
   "execution_count": 6,
   "metadata": {},
   "outputs": [
    {
     "name": "stdout",
     "output_type": "stream",
     "text": [
      "move to 0\n",
      "check row 0\n",
      "check row 1\n",
      "check row 2\n",
      "check row 3\n",
      "find\n",
      "[4]\n",
      "move to 4\n",
      "check row 0\n",
      "check row 1\n",
      "find\n",
      "[4, 3]\n",
      "move to 2\n",
      "check row 0\n",
      "check row 1\n",
      "find\n",
      "[4, 3, 1]\n",
      "move to 4\n",
      "check row 0\n",
      "check row 1\n",
      "check row 2\n",
      "find\n",
      "[4, 3, 1, 1]\n",
      "move to 0\n",
      "check row 0\n",
      "check row 1\n",
      "check row 2\n",
      "check row 3\n",
      "check row 4\n",
      "find\n",
      "[4, 3, 3]\n",
      "move to 1\n",
      "check row 0\n",
      "check row 1\n",
      "check row 2\n",
      "find\n",
      "[4, 2]\n",
      "move to 0\n",
      "check row 0\n",
      "check row 1\n",
      "check row 2\n",
      "check row 3\n",
      "check row 4\n",
      "move to 3\n",
      "check row 0\n",
      "check row 1\n",
      "check row 2\n",
      "check row 3\n",
      "find\n",
      "[4, 2, 4]\n"
     ]
    },
    {
     "data": {
      "text/plain": [
       "4"
      ]
     },
     "execution_count": 6,
     "metadata": {},
     "output_type": "execute_result"
    }
   ],
   "source": [
    "board = [[0,0,0,0,0],[0,0,1,0,3],[0,2,5,0,1],[4,2,4,4,2],[3,5,1,3,1]]\n",
    "moves = [1,5,3,5,1,2,1,4]\n",
    "\n",
    "solution(board,moves)"
   ]
  },
  {
   "cell_type": "code",
   "execution_count": null,
   "metadata": {},
   "outputs": [],
   "source": [
    "1 네오\n",
    "2 무지\n",
    "3 콘\n",
    "4 어피치\n",
    "5 포르도"
   ]
  },
  {
   "cell_type": "code",
   "execution_count": null,
   "metadata": {},
   "outputs": [],
   "source": [
    "box = [4311324]"
   ]
  }
 ],
 "metadata": {
  "kernelspec": {
   "display_name": "Python 3",
   "language": "python",
   "name": "python3"
  },
  "language_info": {
   "codemirror_mode": {
    "name": "ipython",
    "version": 3
   },
   "file_extension": ".py",
   "mimetype": "text/x-python",
   "name": "python",
   "nbconvert_exporter": "python",
   "pygments_lexer": "ipython3",
   "version": "3.8.5"
  }
 },
 "nbformat": 4,
 "nbformat_minor": 4
}
