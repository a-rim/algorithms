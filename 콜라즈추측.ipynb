{
 "cells": [
  {
   "cell_type": "markdown",
   "metadata": {},
   "source": [
    "**문제 설명**\n",
    "\n",
    "1937년 Collatz란 사람에 의해 제기된 이 추측은, 주어진 수가 1이 될때까지 다음 작업을 반복하면, 모든 수를 1로 만들 수 있다는 추측입니다. 작업은 다음과 같습니다.\n",
    "1. \n",
    "    - 입력된 수가 짝수라면 2로 나눕니다. \n",
    "    - 입력된 수가 홀수라면 3을 곱하고 1을 더합니다.\n",
    "2. 결과로 나온 수에 같은 작업을 1이 될 때까지 반복합니다.\n",
    "\n",
    "예를 들어, 입력된 수가 6이라면 6→3→10→5→16→8→4→2→1 이 되어 총 8번 만에 1이 됩니다. 위 작업을 몇 번이나 반복해야하는지 반환하는 함수, solution을 완성해 주세요. 단, 작업을 500번을 반복해도 1이 되지 않는다면 –1을 반환해 주세요."
   ]
  },
  {
   "cell_type": "markdown",
   "metadata": {},
   "source": [
    "**제한 사항**\n",
    "\n",
    "입력된 수, num은 1 이상 8000000 미만인 정수입니다."
   ]
  },
  {
   "cell_type": "markdown",
   "metadata": {},
   "source": [
    "# 작업 반복 횟수 사용\n",
    "\n",
    "- 500번이 되기 전까지 while문 반복\n",
    "- num이 1이 되면 횟수를 반환하면서 종료\n",
    "- cnt가 500이 넘으면 while문을 빠져나와 -1 반환"
   ]
  },
  {
   "cell_type": "code",
   "execution_count": 6,
   "metadata": {},
   "outputs": [],
   "source": [
    "def solution(n):\n",
    "    cnt = 0\n",
    "    while cnt < 500:\n",
    "        if n == 1:\n",
    "            return cnt\n",
    "        else:\n",
    "            if n %  2 == 0:\n",
    "                n /= 2\n",
    "            else:\n",
    "                n = 3 * n + 1\n",
    "        \n",
    "        cnt += 1\n",
    "    return -1"
   ]
  },
  {
   "cell_type": "code",
   "execution_count": 7,
   "metadata": {},
   "outputs": [
    {
     "data": {
      "text/plain": [
       "8"
      ]
     },
     "execution_count": 7,
     "metadata": {},
     "output_type": "execute_result"
    }
   ],
   "source": [
    "solution(6)"
   ]
  },
  {
   "cell_type": "markdown",
   "metadata": {},
   "source": [
    "# num 사용\n",
    "- num이 1이 아닌 동안 while문 반복\n",
    "- 반복횟수(answer)가 500이 되면 -1을 반환하며 종료\n",
    "- num이 1이 되면 while문을 빠져나와 종료"
   ]
  },
  {
   "cell_type": "code",
   "execution_count": 10,
   "metadata": {},
   "outputs": [],
   "source": [
    "def solution(n):\n",
    "    answer = 0\n",
    "    \n",
    "    while n != 1:\n",
    "        if answer == 500:\n",
    "            return -1\n",
    "        if n % 2 == 0:\n",
    "            n /= 2\n",
    "        else:\n",
    "            n = 3 * n + 1\n",
    "        answer += 1\n",
    "\n",
    "    return answer"
   ]
  },
  {
   "cell_type": "code",
   "execution_count": 11,
   "metadata": {},
   "outputs": [
    {
     "data": {
      "text/plain": [
       "-1"
      ]
     },
     "execution_count": 11,
     "metadata": {},
     "output_type": "execute_result"
    }
   ],
   "source": [
    "n = 626331\n",
    "solution(n)"
   ]
  }
 ],
 "metadata": {
  "kernelspec": {
   "display_name": "Python 3",
   "language": "python",
   "name": "python3"
  },
  "language_info": {
   "codemirror_mode": {
    "name": "ipython",
    "version": 3
   },
   "file_extension": ".py",
   "mimetype": "text/x-python",
   "name": "python",
   "nbconvert_exporter": "python",
   "pygments_lexer": "ipython3",
   "version": "3.8.5"
  },
  "toc": {
   "base_numbering": 1,
   "nav_menu": {},
   "number_sections": true,
   "sideBar": true,
   "skip_h1_title": false,
   "title_cell": "Table of Contents",
   "title_sidebar": "Contents",
   "toc_cell": false,
   "toc_position": {},
   "toc_section_display": true,
   "toc_window_display": false
  }
 },
 "nbformat": 4,
 "nbformat_minor": 4
}
