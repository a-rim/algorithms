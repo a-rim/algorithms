{
 "cells": [
  {
   "cell_type": "markdown",
   "metadata": {},
   "source": [
    "**문제 설명**\n",
    "\n",
    "무인도에 갇힌 사람들을 구명보트를 이용하여 구출하려고 합니다. 구명보트는 작아서 한 번에 최대 2명씩 밖에 탈 수 없고, 무게 제한도 있습니다.\n",
    "\n",
    "예를 들어, 사람들의 몸무게가 [70kg, 50kg, 80kg, 50kg]이고 구명보트의 무게 제한이 100kg이라면 2번째 사람과 4번째 사람은 같이 탈 수 있지만 1번째 사람과 3번째 사람의 무게의 합은 150kg이므로 구명보트의 무게 제한을 초과하여 같이 탈 수 없습니다.\n",
    "\n",
    "구명보트를 최대한 적게 사용하여 모든 사람을 구출하려고 합니다.\n",
    "\n",
    "사람들의 몸무게를 담은 배열 people과 구명보트의 무게 제한 limit가 매개변수로 주어질 때, 모든 사람을 구출하기 위해 필요한 구명보트 개수의 최솟값을 return 하도록 solution 함수를 작성해주세요."
   ]
  },
  {
   "cell_type": "markdown",
   "metadata": {},
   "source": [
    "**제한사항**\n",
    "\n",
    "- 무인도에 갇힌 사람은 1명 이상 50,000명 이하입니다.\n",
    "- 각 사람의 몸무게는 40kg 이상 240kg 이하입니다.\n",
    "- 구명보트의 무게 제한은 40kg 이상 240kg 이하입니다.\n",
    "- 구명보트의 무게 제한은 항상 사람들의 몸무게 중 최댓값보다 크게 주어지므로 사람들을 구출할 수 없는 경우는 없습니다."
   ]
  },
  {
   "cell_type": "markdown",
   "metadata": {},
   "source": [
    "# Greedy Algorithm\n",
    "미래를 생각하지 않고 각 단계에서 가장 최선의 선택을 하는 기법. 각 단계에서 최선의 선택을 한 것이 전체적으로도 최선이길 바라는 알고리즘"
   ]
  },
  {
   "cell_type": "markdown",
   "metadata": {},
   "source": [
    "## 리스트에서 지우기\n",
    "- 몸무게 순서대로 정렬\n",
    "- 몸무게가 가장 큰 사람부터 빼낸다\n",
    "- 2명까지 탑승할 수 있으므로 가장 몸무게가 적은 사람과 같이 탈 수 있는지 확인"
   ]
  },
  {
   "cell_type": "code",
   "execution_count": null,
   "metadata": {},
   "outputs": [],
   "source": [
    "def solution(people, limit):\n",
    "    answer = 0\n",
    "    people.sort()\n",
    "    while len(people) > 1:\n",
    "        if people[0] + people[-1] <= limit:\n",
    "            del people[0]\n",
    "            del people[-1]\n",
    "        else:\n",
    "            del people[-1]\n",
    "        answer += 1\n",
    "    if len(people) == 1:\n",
    "        answer += 1\n",
    "    return answer"
   ]
  },
  {
   "cell_type": "code",
   "execution_count": 18,
   "metadata": {},
   "outputs": [],
   "source": [
    "def solution(people, limit):\n",
    "    answer = 0\n",
    "    people.sort()\n",
    "    print(people)\n",
    "    while len(people) > 1:\n",
    "        if people[0] + people[-1] <= limit:\n",
    "            print('%d + %d = %d' % (people[0], people[-1], people[0] + people[-1]))\n",
    "            del people[0]\n",
    "            del people[-1]\n",
    "        else:\n",
    "            print(people[-1])\n",
    "            del people[-1]\n",
    "        answer += 1\n",
    "        print(people)\n",
    "    if len(people) == 1:\n",
    "        answer += 1\n",
    "    print('answer :', answer)\n",
    "    return answer"
   ]
  },
  {
   "cell_type": "code",
   "execution_count": 19,
   "metadata": {},
   "outputs": [
    {
     "name": "stdout",
     "output_type": "stream",
     "text": [
      "[50, 50, 70, 80]\n",
      "80\n",
      "[50, 50, 70]\n",
      "70\n",
      "[50, 50]\n",
      "50 + 50 = 100\n",
      "[]\n",
      "answer : 3\n"
     ]
    },
    {
     "data": {
      "text/plain": [
       "3"
      ]
     },
     "execution_count": 19,
     "metadata": {},
     "output_type": "execute_result"
    }
   ],
   "source": [
    "solution([70, 50, 80, 50], 100)"
   ]
  },
  {
   "cell_type": "code",
   "execution_count": 20,
   "metadata": {
    "scrolled": true
   },
   "outputs": [
    {
     "name": "stdout",
     "output_type": "stream",
     "text": [
      "[5, 8, 10, 30, 65, 80, 90, 100]\n",
      "100\n",
      "[5, 8, 10, 30, 65, 80, 90]\n",
      "5 + 90 = 95\n",
      "[8, 10, 30, 65, 80]\n",
      "8 + 80 = 88\n",
      "[10, 30, 65]\n",
      "10 + 65 = 75\n",
      "[30]\n",
      "answer : 5\n"
     ]
    },
    {
     "data": {
      "text/plain": [
       "5"
      ]
     },
     "execution_count": 20,
     "metadata": {},
     "output_type": "execute_result"
    }
   ],
   "source": [
    "solution([90, 5, 8, 100, 30, 65, 80, 10], 100)"
   ]
  },
  {
   "cell_type": "markdown",
   "metadata": {},
   "source": [
    "## index 활용\n",
    "- 몸무게 순서대로 정렬\n",
    "    - 가장 몸무게가 적게 나가는 사람의 index : light = 0\n",
    "    - 가장 몸무게가 많이 나간느 사람의 index : heavy = -1\n",
    "- 보트에 탑승하면 다음 사람으로 인덱스 옮겨감\n",
    "    - light : 앞에서부터 뒤로 가야하므로 + 1\n",
    "    - heavy : 뒤에서부터 앞으로 와야하므로 -1\n",
    "- 마지막 두사람이 남았을 때\n",
    "    - 무거운 사람만 타게 된 경우 heavy만 -1되므로 둘의 index가 같아진다. 따라서 answer + 1 해준다.\n",
    "    - 두사람 모두 탄 경우 light = heavy + 1"
   ]
  },
  {
   "cell_type": "code",
   "execution_count": 1,
   "metadata": {},
   "outputs": [],
   "source": [
    "def solution(people, limit):\n",
    "    answer = 0\n",
    "    people.sort()\n",
    "    light = 0\n",
    "    heavy = len(people) - 1\n",
    "    while light < heavy:\n",
    "        if people[light] + people[heavy] <= limit:\n",
    "            light += 1\n",
    "            heavy -= 1\n",
    "        else:\n",
    "            heavy -= 1\n",
    "        answer += 1\n",
    "    if light == heavy:\n",
    "        answer += 1\n",
    "    return answer"
   ]
  }
 ],
 "metadata": {
  "kernelspec": {
   "display_name": "Python 3",
   "language": "python",
   "name": "python3"
  },
  "language_info": {
   "codemirror_mode": {
    "name": "ipython",
    "version": 3
   },
   "file_extension": ".py",
   "mimetype": "text/x-python",
   "name": "python",
   "nbconvert_exporter": "python",
   "pygments_lexer": "ipython3",
   "version": "3.8.5"
  },
  "toc": {
   "base_numbering": 1,
   "nav_menu": {},
   "number_sections": true,
   "sideBar": true,
   "skip_h1_title": false,
   "title_cell": "Table of Contents",
   "title_sidebar": "Contents",
   "toc_cell": false,
   "toc_position": {},
   "toc_section_display": true,
   "toc_window_display": false
  }
 },
 "nbformat": 4,
 "nbformat_minor": 4
}
