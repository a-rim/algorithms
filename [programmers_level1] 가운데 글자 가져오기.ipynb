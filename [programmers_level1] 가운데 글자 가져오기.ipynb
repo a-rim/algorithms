{
 "cells": [
  {
   "cell_type": "markdown",
   "id": "legendary-glossary",
   "metadata": {},
   "source": [
    "# 문제 설명\n",
    "단어 s의 가운데 글자를 반환하는 함수, solution을 만들어 보세요. 단어의 길이가 짝수라면 가운데 두글자를 반환하면 됩니다.\n",
    "\n",
    "\n",
    "**제한사항**\n",
    "- s는 길이가 1 이상, 100이하인 스트링입니다.\n",
    "\n",
    "**입출력 예**\n",
    "\n",
    "s|return\n",
    "---|---\n",
    "\"abcde\"|\"c\"\n",
    "\"qwer\"|\"we\""
   ]
  },
  {
   "cell_type": "markdown",
   "id": "comparative-baptist",
   "metadata": {},
   "source": [
    "# 문제 풀이\n",
    "1. len()함수를 사용하여 \n",
    "    - 단어의 길이가 짝수인지 홀수인지 판별 : % 나머지 계산 활용\n",
    "    - 가운데 글자가 몇번째 자리인지 계산\n",
    "2. 슬라이싱하여 반환"
   ]
  },
  {
   "cell_type": "code",
   "execution_count": 1,
   "id": "criminal-steal",
   "metadata": {},
   "outputs": [],
   "source": [
    "s = \"abcde\"  # 단어 입력"
   ]
  },
  {
   "cell_type": "code",
   "execution_count": 5,
   "id": "thick-bahrain",
   "metadata": {},
   "outputs": [
    {
     "data": {
      "text/plain": [
       "5"
      ]
     },
     "execution_count": 5,
     "metadata": {},
     "output_type": "execute_result"
    }
   ],
   "source": [
    "len(s)  # 단어의 길이"
   ]
  },
  {
   "cell_type": "code",
   "execution_count": 4,
   "id": "promising-recruitment",
   "metadata": {},
   "outputs": [
    {
     "data": {
      "text/plain": [
       "1"
      ]
     },
     "execution_count": 4,
     "metadata": {},
     "output_type": "execute_result"
    }
   ],
   "source": [
    "len(s) % 2  # 짝홀수 판별"
   ]
  },
  {
   "cell_type": "code",
   "execution_count": 6,
   "id": "elementary-contact",
   "metadata": {},
   "outputs": [
    {
     "data": {
      "text/plain": [
       "2"
      ]
     },
     "execution_count": 6,
     "metadata": {},
     "output_type": "execute_result"
    }
   ],
   "source": [
    "len(s) // 2"
   ]
  },
  {
   "cell_type": "code",
   "execution_count": 7,
   "id": "neutral-projection",
   "metadata": {},
   "outputs": [
    {
     "data": {
      "text/plain": [
       "'c'"
      ]
     },
     "execution_count": 7,
     "metadata": {},
     "output_type": "execute_result"
    }
   ],
   "source": [
    "s[len(s) // 2]"
   ]
  },
  {
   "cell_type": "code",
   "execution_count": 8,
   "id": "prompt-dubai",
   "metadata": {},
   "outputs": [],
   "source": [
    "s = \"qwer\"  # 단어 입력"
   ]
  },
  {
   "cell_type": "code",
   "execution_count": 9,
   "id": "average-synthetic",
   "metadata": {},
   "outputs": [
    {
     "data": {
      "text/plain": [
       "4"
      ]
     },
     "execution_count": 9,
     "metadata": {},
     "output_type": "execute_result"
    }
   ],
   "source": [
    "len(s)  # 단어의 길이"
   ]
  },
  {
   "cell_type": "code",
   "execution_count": 10,
   "id": "becoming-statistics",
   "metadata": {},
   "outputs": [
    {
     "data": {
      "text/plain": [
       "0"
      ]
     },
     "execution_count": 10,
     "metadata": {},
     "output_type": "execute_result"
    }
   ],
   "source": [
    "len(s) % 2  # 짝홀수 판별"
   ]
  },
  {
   "cell_type": "code",
   "execution_count": 11,
   "id": "supposed-chick",
   "metadata": {},
   "outputs": [
    {
     "data": {
      "text/plain": [
       "2"
      ]
     },
     "execution_count": 11,
     "metadata": {},
     "output_type": "execute_result"
    }
   ],
   "source": [
    "len(s) // 2"
   ]
  },
  {
   "cell_type": "code",
   "execution_count": 14,
   "id": "excellent-nutrition",
   "metadata": {},
   "outputs": [
    {
     "data": {
      "text/plain": [
       "'we'"
      ]
     },
     "execution_count": 14,
     "metadata": {},
     "output_type": "execute_result"
    }
   ],
   "source": [
    "s[len(s) // 2 - 1:len(s) // 2 + 1]"
   ]
  },
  {
   "cell_type": "code",
   "execution_count": 15,
   "id": "attended-convert",
   "metadata": {},
   "outputs": [],
   "source": [
    "def solution(s):\n",
    "    num_len = len(s)\n",
    "    num_index = len(s) // 2\n",
    "    if num_len % 2 == 1:\n",
    "        answer = s[num_index]\n",
    "    else:\n",
    "        answer = s[num_index-1:num_index+1]\n",
    "    return answer"
   ]
  }
 ],
 "metadata": {
  "kernelspec": {
   "display_name": "Python 3",
   "language": "python",
   "name": "python3"
  },
  "language_info": {
   "codemirror_mode": {
    "name": "ipython",
    "version": 3
   },
   "file_extension": ".py",
   "mimetype": "text/x-python",
   "name": "python",
   "nbconvert_exporter": "python",
   "pygments_lexer": "ipython3",
   "version": "3.8.5"
  },
  "toc": {
   "base_numbering": 1,
   "nav_menu": {},
   "number_sections": true,
   "sideBar": true,
   "skip_h1_title": false,
   "title_cell": "Table of Contents",
   "title_sidebar": "Contents",
   "toc_cell": false,
   "toc_position": {},
   "toc_section_display": true,
   "toc_window_display": false
  }
 },
 "nbformat": 4,
 "nbformat_minor": 5
}
