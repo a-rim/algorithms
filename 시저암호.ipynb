{
 "cells": [
  {
   "cell_type": "markdown",
   "metadata": {},
   "source": [
    "**문제 설명**\n",
    "\n",
    "어떤 문장의 각 알파벳을 일정한 거리만큼 밀어서 다른 알파벳으로 바꾸는 암호화 방식을 시저 암호라고 합니다. 예를 들어 \"AB\"는 1만큼 밀면 \"BC\"가 되고, 3만큼 밀면 \"DE\"가 됩니다. \"z\"는 1만큼 밀면 \"a\"가 됩니다. 문자열 s와 거리 n을 입력받아 s를 n만큼 민 암호문을 만드는 함수, solution을 완성해 보세요."
   ]
  },
  {
   "cell_type": "markdown",
   "metadata": {},
   "source": [
    "**제한 조건**\n",
    "- 공백은 아무리 밀어도 공백입니다.\n",
    "- s는 알파벳 소문자, 대문자, 공백으로만 이루어져 있습니다.\n",
    "- s의 길이는 8000이하입니다.\n",
    "- n은 1 이상, 25이하인 자연수입니다."
   ]
  },
  {
   "cell_type": "markdown",
   "metadata": {},
   "source": [
    "**입출력 예**\n",
    "- s = 'AB, n = 1 -> 'BC'\n",
    "- s = 'z', n = 1 -> 'a'\n",
    "- 'a B z', n = 4 -> 'e F d'"
   ]
  },
  {
   "cell_type": "markdown",
   "metadata": {},
   "source": [
    "문장 s를 for문을 이용해 구성되있는 요소 하나하나 판단한다\n",
    "\n",
    "s는 알파벳 소문자, 대문자, 공백으로만 이루어져있기 때문에 이 세가지 경우에 대해서만 생각하면 된다\n",
    "## 공백인 경우 바뀌지 않는다"
   ]
  },
  {
   "cell_type": "code",
   "execution_count": 2,
   "metadata": {},
   "outputs": [
    {
     "name": "stdout",
     "output_type": "stream",
     "text": [
      "a\n",
      "blank\n",
      "B\n",
      "blank\n",
      "z\n"
     ]
    }
   ],
   "source": [
    "s = 'a B z'\n",
    "n = 4\n",
    "\n",
    "for i in s:\n",
    "    if i == ' ':\n",
    "        print('blank')\n",
    "    else:\n",
    "        print(i)"
   ]
  },
  {
   "cell_type": "markdown",
   "metadata": {},
   "source": [
    "## 알파벳 소문자인 경우\n",
    "- 일정한 거리만큼 밀어야하므로 알파벳 순서대로 문자열을 구성하여 인덱스를 활용하여 바꾼다\n",
    "- 소문자인 경우 lower() 메서드를 활용하여 판별한다\n",
    "    - 그 전에 먼저 공백에 대해 걸러줘야 메서드에서 에러가 나지 않는다\n",
    "- 현재 알파벳의 인덱스가 index라고 했을 때 n만큼 민 인덱스는 (index + n) % 26 이다\n",
    "    - 26으로 나눈 나머지를 사용하는 이유는 z를 지나 다시 a쪽으로 넘어가는 경우도 고려해주기 위함이다"
   ]
  },
  {
   "cell_type": "code",
   "execution_count": 6,
   "metadata": {},
   "outputs": [
    {
     "name": "stdout",
     "output_type": "stream",
     "text": [
      "a -> e\n",
      "blank\n",
      "B\n",
      "blank\n",
      "z -> d\n"
     ]
    }
   ],
   "source": [
    "s = 'a B z'\n",
    "n = 4\n",
    "\n",
    "alphabet = 'abcdefghijklmnopqrstuvwxyz'\n",
    "for i in s:\n",
    "    if i == ' ':\n",
    "        print('blank')\n",
    "    elif i == i.lower():\n",
    "        print(i, '->', alphabet[(alphabet.index(i) + n) % 26])\n",
    "    else:\n",
    "        print(i)"
   ]
  },
  {
   "cell_type": "markdown",
   "metadata": {},
   "source": [
    "## 알파벳 대문자인 경우\n",
    "- 알파벳 문자열이 소문자로 구성되어있으므로 인덱스를 찾는 단계에서 lower()메서드를 사용하여 바꾼 뒤 다시 upper() 메서드를 활용하여 대문자로 바꿔준다"
   ]
  },
  {
   "cell_type": "code",
   "execution_count": 7,
   "metadata": {},
   "outputs": [
    {
     "name": "stdout",
     "output_type": "stream",
     "text": [
      "a -> e\n",
      "blank\n",
      "B -> F\n",
      "blank\n",
      "z -> d\n"
     ]
    }
   ],
   "source": [
    "s = 'a B z'\n",
    "n = 4\n",
    "\n",
    "alphabet = 'abcdefghijklmnopqrstuvwxyz'\n",
    "for i in s:\n",
    "    if i == ' ':\n",
    "        print('blank')\n",
    "    elif i == i.lower():\n",
    "        print(i, '->', alphabet[(alphabet.index(i) + n) % 26])\n",
    "    else:\n",
    "        print(i, '->', alphabet[(alphabet.index(i.lower()) + n) % 26].upper())"
   ]
  },
  {
   "cell_type": "markdown",
   "metadata": {},
   "source": [
    "## 함수화"
   ]
  },
  {
   "cell_type": "code",
   "execution_count": 8,
   "metadata": {},
   "outputs": [],
   "source": [
    "def solution(s, n):\n",
    "    answer = ''\n",
    "    alp = 'abcdefghijklmnopqrstuvwxyz'\n",
    "    for i in s:\n",
    "        if i == ' ':\n",
    "            answer += ' '\n",
    "        elif i == i.lower():\n",
    "            answer += alp[(alp.index(i) + n) % 26]\n",
    "        else:\n",
    "            answer += alp[(alp.index(i.lower()) + n) % 26].upper()\n",
    "    return answer"
   ]
  },
  {
   "cell_type": "code",
   "execution_count": 9,
   "metadata": {},
   "outputs": [
    {
     "data": {
      "text/plain": [
       "'s Oc'"
      ]
     },
     "execution_count": 9,
     "metadata": {},
     "output_type": "execute_result"
    }
   ],
   "source": [
    "s = 'p Lz'\n",
    "n = 3\n",
    "solution(s, n)"
   ]
  }
 ],
 "metadata": {
  "kernelspec": {
   "display_name": "Python 3",
   "language": "python",
   "name": "python3"
  },
  "language_info": {
   "codemirror_mode": {
    "name": "ipython",
    "version": 3
   },
   "file_extension": ".py",
   "mimetype": "text/x-python",
   "name": "python",
   "nbconvert_exporter": "python",
   "pygments_lexer": "ipython3",
   "version": "3.8.5"
  },
  "toc": {
   "base_numbering": 1,
   "nav_menu": {},
   "number_sections": true,
   "sideBar": true,
   "skip_h1_title": false,
   "title_cell": "Table of Contents",
   "title_sidebar": "Contents",
   "toc_cell": false,
   "toc_position": {},
   "toc_section_display": true,
   "toc_window_display": false
  }
 },
 "nbformat": 4,
 "nbformat_minor": 4
}
