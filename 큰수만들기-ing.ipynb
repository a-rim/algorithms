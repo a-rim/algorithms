{
 "cells": [
  {
   "cell_type": "markdown",
   "id": "operating-pulse",
   "metadata": {},
   "source": [
    "**문제 설명**\n",
    "\n",
    "어떤 숫자에서 k개의 수를 제거했을 때 얻을 수 있는 가장 큰 숫자를 구하려 합니다.\n",
    "\n",
    "예를 들어, 숫자 1924에서 수 두 개를 제거하면 [19, 12, 14, 92, 94, 24] 를 만들 수 있습니다. 이 중 가장 큰 숫자는 94 입니다.\n",
    "\n",
    "문자열 형식으로 숫자 number와 제거할 수의 개수 k가 solution 함수의 매개변수로 주어집니다. number에서 k 개의 수를 제거했을 때 만들 수 있는 수 중 가장 큰 숫자를 문자열 형태로 return 하도록 solution 함수를 완성하세요."
   ]
  },
  {
   "cell_type": "markdown",
   "id": "announced-venture",
   "metadata": {},
   "source": [
    "**제한 조건**\n",
    "\n",
    "- number는 1자리 이상, 1,000,000자리 이하인 숫자입니다.\n",
    "- k는 1 이상 number의 자릿수 미만인 자연수입니다."
   ]
  },
  {
   "cell_type": "markdown",
   "id": "present-current",
   "metadata": {},
   "source": [
    "**입출력 예**\n",
    "\n",
    "|number|k|return|\n",
    "|----|----|----|\n",
    "|\"1924\"|2|\"94\"|\n",
    "|\"1231234\"|3|\"3234\"|\n",
    "|\"4177252841\"|4|\"775841\"|"
   ]
  },
  {
   "cell_type": "markdown",
   "id": "apart-welding",
   "metadata": {},
   "source": [
    "n자리 자연수를 찾을때 ( n = len(number) -k )\n",
    " - start : 0\n",
    " - end : - (n - 1)\n",
    " \n",
    "i번째에서 첫번째 수를 찾으면\n",
    " - start : i + 1\n",
    " - end : - (n - 1)"
   ]
  },
  {
   "cell_type": "markdown",
   "id": "accredited-carolina",
   "metadata": {},
   "source": [
    "# 첫번째 수 : 0 ~ k 번째 숫자 중 가장 큰 수를 찾음"
   ]
  },
  {
   "cell_type": "code",
   "execution_count": 15,
   "id": "exact-magic",
   "metadata": {},
   "outputs": [
    {
     "name": "stdout",
     "output_type": "stream",
     "text": [
      "range(0, 5)\n",
      "0 4\n",
      "2 7\n",
      "반환할 숫자의 시작은 2번째 수인 7\n"
     ]
    }
   ],
   "source": [
    "number = '4177252841'\n",
    "k = 4\n",
    "max_val = 0\n",
    "max_i = 0\n",
    "print(range(k+1))\n",
    "for i in range(k + 1):\n",
    "    if int(number[i]) > max_val:\n",
    "        max_i, max_val = i, int(number[i])\n",
    "        print(max_i, max_val)\n",
    "print('반환할 숫자의 시작은 %d번째 수인 %d' % (max_i, max_val))"
   ]
  },
  {
   "cell_type": "markdown",
   "id": "diagnostic-lancaster",
   "metadata": {},
   "source": [
    "# 두번째 수 : (max_i + 1) ~ (k + 1)"
   ]
  },
  {
   "cell_type": "code",
   "execution_count": 16,
   "id": "empty-court",
   "metadata": {},
   "outputs": [
    {
     "name": "stdout",
     "output_type": "stream",
     "text": [
      "range(3, 6)\n",
      "3 7\n",
      "반환할 숫자의 두번째는 3번째 수인 7\n"
     ]
    }
   ],
   "source": [
    "max_val = 0\n",
    "print(range(max_i + 1, k + 2))\n",
    "for i in range(max_i + 1, k + 2):\n",
    "    if int(number[i]) > max_val:\n",
    "        max_i, max_val = i, int(number[i])\n",
    "        print(max_i, max_val)\n",
    "print('반환할 숫자의 두번째는 %d번째 수인 %d' % (max_i, max_val))"
   ]
  },
  {
   "cell_type": "markdown",
   "id": "strategic-boundary",
   "metadata": {},
   "source": [
    "# 규칙 \n",
    "반환할 문자열 길이 : n = len(number) - k\n",
    "\n",
    "n자리 자연수를 찾을 때\n",
    "- start : 0\n",
    "- end : k\n",
    "\n",
    "i번째에서 첫번째 수를 찾으면\n",
    "- start : i + 1\n",
    "- end : k + 1"
   ]
  },
  {
   "cell_type": "code",
   "execution_count": 17,
   "id": "sticky-mission",
   "metadata": {},
   "outputs": [
    {
     "data": {
      "text/plain": [
       "6"
      ]
     },
     "execution_count": 17,
     "metadata": {},
     "output_type": "execute_result"
    }
   ],
   "source": [
    "# 반환할 문자열의 길이\n",
    "len(number) - k"
   ]
  },
  {
   "cell_type": "markdown",
   "id": "flying-shape",
   "metadata": {},
   "source": [
    "## 문자열 사용"
   ]
  },
  {
   "cell_type": "code",
   "execution_count": 22,
   "id": "brief-talent",
   "metadata": {},
   "outputs": [],
   "source": [
    "def solution(number, k):\n",
    "    answer = ''\n",
    "    start = 0\n",
    "    end = k + 1\n",
    "    for cnt in range(len(number) - k):\n",
    "        max_val = -1\n",
    "        index = 0\n",
    "        print('%d번째 수 범위 : %d ~ %d' % (cnt, start, end - 1))\n",
    "        for i in range(start, end):\n",
    "            if int(number[i]) > max_val:\n",
    "                max_val, index = int(number[i]), i\n",
    "        answer += number[index]\n",
    "        print('%d 위치에 있는 %d. answer : %s' % (index, max_val, answer))\n",
    "        start = index + 1\n",
    "        end += 1\n",
    "    return answer"
   ]
  },
  {
   "cell_type": "code",
   "execution_count": 23,
   "id": "alike-congo",
   "metadata": {
    "scrolled": true
   },
   "outputs": [
    {
     "name": "stdout",
     "output_type": "stream",
     "text": [
      "0번째 수 범위 : 0 ~ 4\n",
      "2 위치에 있는 7. answer : 7\n",
      "1번째 수 범위 : 3 ~ 5\n",
      "3 위치에 있는 7. answer : 77\n",
      "2번째 수 범위 : 4 ~ 6\n",
      "5 위치에 있는 5. answer : 775\n",
      "3번째 수 범위 : 6 ~ 7\n",
      "7 위치에 있는 8. answer : 7758\n",
      "4번째 수 범위 : 8 ~ 8\n",
      "8 위치에 있는 4. answer : 77584\n",
      "5번째 수 범위 : 9 ~ 9\n",
      "9 위치에 있는 1. answer : 775841\n"
     ]
    },
    {
     "data": {
      "text/plain": [
       "'775841'"
      ]
     },
     "execution_count": 23,
     "metadata": {},
     "output_type": "execute_result"
    }
   ],
   "source": [
    "solution('4177252841', 4)"
   ]
  },
  {
   "cell_type": "code",
   "execution_count": 41,
   "id": "bibliographic-kuwait",
   "metadata": {},
   "outputs": [],
   "source": [
    "def solution(number, k):\n",
    "    answer = ''\n",
    "    start = 0\n",
    "    end = k + 1\n",
    "    for cnt in range(len(number) - k):\n",
    "        if start == end - 1:\n",
    "            answer += number[start:]\n",
    "            break\n",
    "        max_val = -1\n",
    "        index = 0\n",
    "        print('%d번째 수 범위 : %d ~ %d' % (cnt, start, end - 1))\n",
    "        for i in range(start, end):\n",
    "            if int(number[i]) > max_val:\n",
    "                max_val, index = int(number[i]), i\n",
    "        answer += number[index]\n",
    "        print('%d 위치에 있는 %d. answer : %s' % (index, max_val, answer))\n",
    "        start = index + 1\n",
    "        end += 1\n",
    "    return answer"
   ]
  },
  {
   "cell_type": "code",
   "execution_count": 42,
   "id": "opened-messaging",
   "metadata": {
    "scrolled": true
   },
   "outputs": [
    {
     "name": "stdout",
     "output_type": "stream",
     "text": [
      "0번째 수 범위 : 0 ~ 4\n",
      "2 위치에 있는 7. answer : 7\n",
      "1번째 수 범위 : 3 ~ 5\n",
      "3 위치에 있는 7. answer : 77\n",
      "2번째 수 범위 : 4 ~ 6\n",
      "5 위치에 있는 5. answer : 775\n",
      "3번째 수 범위 : 6 ~ 7\n",
      "7 위치에 있는 8. answer : 7758\n"
     ]
    },
    {
     "data": {
      "text/plain": [
       "'775841'"
      ]
     },
     "execution_count": 42,
     "metadata": {},
     "output_type": "execute_result"
    }
   ],
   "source": [
    "solution('4177252841', 4)"
   ]
  },
  {
   "cell_type": "markdown",
   "id": "treated-penguin",
   "metadata": {},
   "source": [
    "## list 사용"
   ]
  },
  {
   "cell_type": "code",
   "execution_count": 37,
   "id": "demanding-hebrew",
   "metadata": {},
   "outputs": [],
   "source": [
    "def solution(number, k):\n",
    "    answer = ''\n",
    "    number = [int(i) for i in number]\n",
    "    start = 0\n",
    "    end = k + 1\n",
    "    for cnt in range(len(number) - k):\n",
    "        max_val = -1\n",
    "        index = 0\n",
    "        print('%d번째 수 범위 : %d ~ %d' % (cnt, start, end - 1))\n",
    "        for i in range(start, end):\n",
    "            if number[i] > max_val:\n",
    "                max_val, index = number[i], i\n",
    "        answer += str(number[index])\n",
    "        print('%d 위치에 있는 %d. answer : %s' % (index, max_val, answer))\n",
    "        start = index + 1\n",
    "        end += 1\n",
    "    return answer"
   ]
  },
  {
   "cell_type": "code",
   "execution_count": 38,
   "id": "anticipated-accreditation",
   "metadata": {
    "scrolled": false
   },
   "outputs": [
    {
     "name": "stdout",
     "output_type": "stream",
     "text": [
      "0번째 수 범위 : 0 ~ 4\n",
      "2 위치에 있는 7. answer : 7\n",
      "1번째 수 범위 : 3 ~ 5\n",
      "3 위치에 있는 7. answer : 77\n",
      "2번째 수 범위 : 4 ~ 6\n",
      "5 위치에 있는 5. answer : 775\n",
      "3번째 수 범위 : 6 ~ 7\n",
      "7 위치에 있는 8. answer : 7758\n",
      "4번째 수 범위 : 8 ~ 8\n",
      "8 위치에 있는 4. answer : 77584\n",
      "5번째 수 범위 : 9 ~ 9\n",
      "9 위치에 있는 1. answer : 775841\n"
     ]
    },
    {
     "data": {
      "text/plain": [
       "'775841'"
      ]
     },
     "execution_count": 38,
     "metadata": {},
     "output_type": "execute_result"
    }
   ],
   "source": [
    "solution('4177252841', 4)"
   ]
  },
  {
   "cell_type": "code",
   "execution_count": 43,
   "id": "uniform-ticket",
   "metadata": {},
   "outputs": [],
   "source": [
    "def solution(number, k):\n",
    "    answer = ''\n",
    "    number = [int(i) for i in number]\n",
    "    start = 0\n",
    "    end = k + 1\n",
    "    for cnt in range(len(number) - k):\n",
    "        if start == end - 1:\n",
    "            for num in number[start:]:\n",
    "                answer += str(num)\n",
    "            break\n",
    "        max_val = -1\n",
    "        index = 0\n",
    "        print('%d번째 수 범위 : %d ~ %d' % (cnt, start, end - 1))\n",
    "        for i in range(start, end):\n",
    "            if number[i] > max_val:\n",
    "                max_val, index = number[i], i\n",
    "        answer += str(number[index])\n",
    "        print('%d 위치에 있는 %d. answer : %s' % (index, max_val, answer))\n",
    "        start = index + 1\n",
    "        end += 1\n",
    "    return answer"
   ]
  },
  {
   "cell_type": "code",
   "execution_count": 44,
   "id": "legitimate-instrumentation",
   "metadata": {
    "scrolled": false
   },
   "outputs": [
    {
     "name": "stdout",
     "output_type": "stream",
     "text": [
      "0번째 수 범위 : 0 ~ 4\n",
      "2 위치에 있는 7. answer : 7\n",
      "1번째 수 범위 : 3 ~ 5\n",
      "3 위치에 있는 7. answer : 77\n",
      "2번째 수 범위 : 4 ~ 6\n",
      "5 위치에 있는 5. answer : 775\n",
      "3번째 수 범위 : 6 ~ 7\n",
      "7 위치에 있는 8. answer : 7758\n"
     ]
    },
    {
     "data": {
      "text/plain": [
       "'775841'"
      ]
     },
     "execution_count": 44,
     "metadata": {},
     "output_type": "execute_result"
    }
   ],
   "source": [
    "solution('4177252841', 4)"
   ]
  },
  {
   "cell_type": "code",
   "execution_count": 33,
   "id": "general-sullivan",
   "metadata": {},
   "outputs": [],
   "source": [
    "def solution(number, k):\n",
    "    answer = ''\n",
    "    number = [int(i) for i in number]\n",
    "    end = k + 1\n",
    "    for cnt in range(len(number) - k):\n",
    "        max_val = -1\n",
    "        index = 0\n",
    "        for i in range(end):\n",
    "            if number[i] > max_val:\n",
    "                max_val, index = number[i], i\n",
    "        answer += str(number[index])\n",
    "        print('%d 위치에 있는 %d. answer : %s' % (index, max_val, answer))\n",
    "        del number[:index + 1]\n",
    "        end -= index\n",
    "    return answer"
   ]
  },
  {
   "cell_type": "code",
   "execution_count": 34,
   "id": "interpreted-sucking",
   "metadata": {},
   "outputs": [
    {
     "name": "stdout",
     "output_type": "stream",
     "text": [
      "2 위치에 있는 7. answer : 7\n",
      "0 위치에 있는 7. answer : 77\n",
      "1 위치에 있는 5. answer : 775\n",
      "1 위치에 있는 8. answer : 7758\n",
      "0 위치에 있는 4. answer : 77584\n",
      "0 위치에 있는 1. answer : 775841\n"
     ]
    },
    {
     "data": {
      "text/plain": [
       "'775841'"
      ]
     },
     "execution_count": 34,
     "metadata": {},
     "output_type": "execute_result"
    }
   ],
   "source": [
    "solution('4177252841', 4)"
   ]
  }
 ],
 "metadata": {
  "kernelspec": {
   "display_name": "Python 3",
   "language": "python",
   "name": "python3"
  },
  "language_info": {
   "codemirror_mode": {
    "name": "ipython",
    "version": 3
   },
   "file_extension": ".py",
   "mimetype": "text/x-python",
   "name": "python",
   "nbconvert_exporter": "python",
   "pygments_lexer": "ipython3",
   "version": "3.8.5"
  },
  "toc": {
   "base_numbering": 1,
   "nav_menu": {},
   "number_sections": true,
   "sideBar": true,
   "skip_h1_title": false,
   "title_cell": "Table of Contents",
   "title_sidebar": "Contents",
   "toc_cell": false,
   "toc_position": {},
   "toc_section_display": true,
   "toc_window_display": false
  }
 },
 "nbformat": 4,
 "nbformat_minor": 5
}
