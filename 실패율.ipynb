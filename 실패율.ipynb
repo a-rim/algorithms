{
 "cells": [
  {
   "cell_type": "markdown",
   "id": "flexible-actor",
   "metadata": {},
   "source": [
    "**문제 설명**\n",
    "\n",
    "슈퍼 게임 개발자 오렐리는 큰 고민에 빠졌다. 그녀가 만든 프랜즈 오천성이 대성공을 거뒀지만, 요즘 신규 사용자의 수가 급감한 것이다. 원인은 신규 사용자와 기존 사용자 사이에 스테이지 차이가 너무 큰 것이 문제였다.\n",
    "\n",
    "이 문제를 어떻게 할까 고민 한 그녀는 동적으로 게임 시간을 늘려서 난이도를 조절하기로 했다. 역시 슈퍼 개발자라 대부분의 로직은 쉽게 구현했지만, 실패율을 구하는 부분에서 위기에 빠지고 말았다. 오렐리를 위해 실패율을 구하는 코드를 완성하라.\n",
    "\n",
    "- 실패율은 다음과 같이 정의한다.\n",
    "    - 스테이지에 도달했으나 아직 클리어하지 못한 플레이어의 수 / 스테이지에 도달한 플레이어 수\n",
    "    \n",
    "전체 스테이지의 개수 N, 게임을 이용하는 사용자가 현재 멈춰있는 스테이지의 번호가 담긴 배열 stages가 매개변수로 주어질 때, 실패율이 높은 스테이지부터 내림차순으로 스테이지의 번호가 담겨있는 배열을 return 하도록 solution 함수를 완성하라."
   ]
  },
  {
   "cell_type": "markdown",
   "id": "several-sport",
   "metadata": {},
   "source": [
    "**제한 사항**\n",
    "\n",
    "- 스테이지의 개수 N은 1 이상 500 이하의 자연수이다.\n",
    "- stages의 길이는 1 이상 200,000 이하이다.\n",
    "- stages에는 1 이상 N + 1 이하의 자연수가 담겨있다.\n",
    "- 각 자연수는 사용자가 현재 도전 중인 스테이지의 번호를 나타낸다.\n",
    "- 단, N + 1 은 마지막 스테이지(N 번째 스테이지) 까지 클리어 한 사용자를 나타낸다.\n",
    "- 만약 실패율이 같은 스테이지가 있다면 작은 번호의 스테이지가 먼저 오도록 하면 된다.\n",
    "- 스테이지에 도달한 유저가 없는 경우 해당 스테이지의 실패율은 0 으로 정의한다."
   ]
  },
  {
   "cell_type": "markdown",
   "id": "actual-diploma",
   "metadata": {},
   "source": [
    "**입출력 예**\n",
    "\n",
    "N|stages|result\n",
    "---|---|---\n",
    "5|[2, 1, 2, 6, 2, 4, 3, 3]|[3,4,2,1,5]\n",
    "4|[4,4,4,4,4]|[4,1,2,3]\n",
    "\n",
    "- 입출력 예 #1\n",
    "\n",
    "    - 1번 스테이지에는 총 8명의 사용자가 도전했으며, 이 중 1명의 사용자가 아직 클리어하지 못했다. 따라서 1번 스테이지의 실패율은 다음과 같다.\n",
    "\n",
    "        - 1 번 스테이지 실패율 : 1/8\n",
    "\n",
    "    - 2번 스테이지에는 총 7명의 사용자가 도전했으며, 이 중 3명의 사용자가 아직 클리어하지 못했다. 따라서 2번 스테이지의 실패율은 다음과 같다.\n",
    "\n",
    "        - 2 번 스테이지 실패율 : 3/7\n",
    "    \n",
    "    - 마찬가지로 나머지 스테이지의 실패율은 다음과 같다.\n",
    "\n",
    "        - 3 번 스테이지 실패율 : 2/4\n",
    "        - 4번 스테이지 실패율 : 1/2\n",
    "        - 5번 스테이지 실패율 : 0/1\n",
    "    \n",
    "    각 스테이지의 번호를 실패율의 내림차순으로 정렬하면 다음과 같다.\n",
    "\n",
    "        - [3,4,2,1,5]\n",
    "    \n",
    "\n",
    "\n",
    "- 입출력 예 #2\n",
    "\n",
    "    모든 사용자가 마지막 스테이지에 있으므로 4번 스테이지의 실패율은 1이며 나머지 스테이지의 실패율은 0이다.\n",
    "\n",
    "    - [4,1,2,3]"
   ]
  },
  {
   "cell_type": "code",
   "execution_count": 33,
   "id": "suited-nickname",
   "metadata": {},
   "outputs": [],
   "source": [
    "N = 4\n",
    "stages = [4,4,4,4,4]"
   ]
  },
  {
   "cell_type": "code",
   "execution_count": 40,
   "id": "outer-support",
   "metadata": {},
   "outputs": [],
   "source": [
    "N = 5\n",
    "stages = [2, 1, 2, 6, 2, 4, 3, 3]"
   ]
  },
  {
   "cell_type": "code",
   "execution_count": 41,
   "id": "widespread-remains",
   "metadata": {},
   "outputs": [],
   "source": [
    "stages.sort()"
   ]
  },
  {
   "cell_type": "code",
   "execution_count": 42,
   "id": "isolated-right",
   "metadata": {},
   "outputs": [
    {
     "name": "stdout",
     "output_type": "stream",
     "text": [
      "[1, 2, 2, 2, 3, 3, 4, 6]\n"
     ]
    }
   ],
   "source": [
    "print(stages)"
   ]
  },
  {
   "cell_type": "code",
   "execution_count": 43,
   "id": "incredible-treaty",
   "metadata": {},
   "outputs": [
    {
     "name": "stdout",
     "output_type": "stream",
     "text": [
      "1\n",
      "case 2 [] 1\n",
      "2\n",
      "case 1 [1] 1\n",
      "2\n",
      "case 2 [1] 2\n",
      "2\n",
      "case 2 [1] 3\n",
      "3\n",
      "case 1 [1, 3] 1\n",
      "3\n",
      "case 2 [1, 3] 2\n",
      "4\n",
      "case 1 [1, 3, 2] 1\n",
      "6\n",
      "case 3 [1, 3, 2, 1, 0] 1\n"
     ]
    }
   ],
   "source": [
    "num_users = []\n",
    "b_stage = 1\n",
    "users = 0\n",
    "for stage in stages:\n",
    "    print(stage)\n",
    "    if b_stage + 1 == stage:\n",
    "        num_users.append(users)\n",
    "        users = 1\n",
    "        print('case 1', num_users, users)\n",
    "    elif b_stage == stage:\n",
    "        users += 1\n",
    "        print('case 2', num_users, users)\n",
    "    else:\n",
    "        num_users.extend([users] + [0 for i in range(stage - b_stage - 1)])\n",
    "        users = 1\n",
    "        print('case 3', num_users, users)\n",
    "    b_stage = stage\n",
    "num_users.append(users)"
   ]
  },
  {
   "cell_type": "code",
   "execution_count": 44,
   "id": "integrated-wesley",
   "metadata": {},
   "outputs": [
    {
     "data": {
      "text/plain": [
       "[1, 3, 2, 1, 0, 1]"
      ]
     },
     "execution_count": 44,
     "metadata": {},
     "output_type": "execute_result"
    }
   ],
   "source": [
    "num_users"
   ]
  },
  {
   "cell_type": "code",
   "execution_count": 46,
   "id": "brazilian-pressing",
   "metadata": {},
   "outputs": [
    {
     "name": "stdout",
     "output_type": "stream",
     "text": [
      "1 / 8\n",
      "3 / 7\n",
      "2 / 4\n",
      "1 / 2\n",
      "0 / 1\n",
      "[0.125, 0.42857142857142855, 0.5, 0.5, 0.0]\n"
     ]
    }
   ],
   "source": [
    "failure_rate = []\n",
    "cum = sum(num_users)\n",
    "for stage in range(N):\n",
    "    failure_rate.append(num_users[stage] / cum)\n",
    "    print('%d / %d' % (num_users[stage], cum))\n",
    "    cum -= num_users[stage]\n",
    "print(failure_rate)"
   ]
  },
  {
   "cell_type": "code",
   "execution_count": 48,
   "id": "medical-stranger",
   "metadata": {},
   "outputs": [
    {
     "name": "stdout",
     "output_type": "stream",
     "text": [
      "1 / 8\n",
      "3 / 7\n",
      "2 / 4\n",
      "1 / 2\n",
      "0 / 1\n",
      "{1: 0.125, 2: 0.42857142857142855, 3: 0.5, 4: 0.5, 5: 0.0}\n"
     ]
    }
   ],
   "source": [
    "failure_rate = dict()\n",
    "cum = sum(num_users)\n",
    "for stage in range(N):\n",
    "    failure_rate[stage + 1] = num_users[stage] / cum\n",
    "    print('%d / %d' % (num_users[stage], cum))\n",
    "    cum -= num_users[stage]\n",
    "print(failure_rate)"
   ]
  },
  {
   "cell_type": "code",
   "execution_count": 54,
   "id": "front-pilot",
   "metadata": {},
   "outputs": [
    {
     "data": {
      "text/plain": [
       "dict_keys([3, 4, 2, 1, 5])"
      ]
     },
     "execution_count": 54,
     "metadata": {},
     "output_type": "execute_result"
    }
   ],
   "source": [
    "dict(sorted(failure_rate.items(), key= lambda x : x[1], reverse=True)).keys()"
   ]
  },
  {
   "cell_type": "code",
   "execution_count": 55,
   "id": "colonial-chambers",
   "metadata": {},
   "outputs": [
    {
     "data": {
      "text/plain": [
       "[3, 4, 2, 1, 5]"
      ]
     },
     "execution_count": 55,
     "metadata": {},
     "output_type": "execute_result"
    }
   ],
   "source": [
    "list(dict(sorted(failure_rate.items(), key= lambda x : x[1], reverse=True)).keys())"
   ]
  },
  {
   "cell_type": "code",
   "execution_count": 64,
   "id": "german-fetish",
   "metadata": {},
   "outputs": [],
   "source": [
    "def solution(N, stages):\n",
    "    num_users = []\n",
    "    b_stage, users = 1, 0\n",
    "    for stage in sorted(stages):\n",
    "        if b_stage + 1 == stage:\n",
    "            num_users.append(users)\n",
    "            users = 1\n",
    "        elif b_stage == stage:\n",
    "            users += 1\n",
    "        else:\n",
    "            num_users.extend([users] + [0 for i in range(stage - b_stage - 1)])\n",
    "            users = 1\n",
    "        b_stage = stage\n",
    "    num_users.append(users)\n",
    "    \n",
    "    failure_rate = dict()\n",
    "    cum = sum(num_users)\n",
    "    for stage in range(N):\n",
    "        failure_rate[stage  + 1] = num_users[stage] / cum\n",
    "        cum -= num_users[stage]\n",
    "    answer = list(dict(sorted(failure_rate.items(), key= lambda x : x[1], reverse=True)).keys())\n",
    "    return answer"
   ]
  },
  {
   "cell_type": "code",
   "execution_count": 65,
   "id": "instructional-permission",
   "metadata": {},
   "outputs": [
    {
     "data": {
      "text/plain": [
       "[3, 4, 2, 1, 5]"
      ]
     },
     "execution_count": 65,
     "metadata": {},
     "output_type": "execute_result"
    }
   ],
   "source": [
    "N = 5\n",
    "stages = [2, 1, 2, 6, 2, 4, 3, 3]\n",
    "solution(N, stages)"
   ]
  },
  {
   "cell_type": "markdown",
   "id": "numerical-science",
   "metadata": {},
   "source": [
    "----"
   ]
  },
  {
   "cell_type": "code",
   "execution_count": 66,
   "id": "canadian-allocation",
   "metadata": {},
   "outputs": [
    {
     "name": "stdout",
     "output_type": "stream",
     "text": [
      "[1, 2, 2, 2, 3, 3, 4, 6]\n"
     ]
    }
   ],
   "source": [
    "N = 5\n",
    "stages = [2, 1, 2, 6, 2, 4, 3, 3]\n",
    "stages.sort()\n",
    "print(stages)"
   ]
  },
  {
   "cell_type": "code",
   "execution_count": 75,
   "id": "hollywood-writer",
   "metadata": {
    "scrolled": true
   },
   "outputs": [
    {
     "name": "stdout",
     "output_type": "stream",
     "text": [
      "1\n",
      "case 2 1\n",
      "2\n",
      "case 1 1 {1: 0.125}\n",
      "2\n",
      "case 2 2\n",
      "2\n",
      "case 2 3\n",
      "3\n",
      "case 1 1 {1: 0.125, 2: 0.42857142857142855}\n",
      "3\n",
      "case 2 2\n",
      "4\n",
      "case 1 1 {1: 0.125, 2: 0.42857142857142855, 3: 0.5}\n",
      "6\n",
      "4 {1: 0.125, 2: 0.42857142857142855, 3: 0.5, 4: 0}\n",
      "5 {1: 0.125, 2: 0.42857142857142855, 3: 0.5, 4: 0, 5: 0}\n",
      "case 3 1 {1: 0.125, 2: 0.42857142857142855, 3: 0.5, 4: 0, 5: 0}\n",
      "{1: 0.125, 2: 0.42857142857142855, 3: 0.5, 4: 0, 5: 0, 6: 1}\n"
     ]
    }
   ],
   "source": [
    "cum = len(stages)\n",
    "b_stage = 1\n",
    "users = 0\n",
    "failure_rate = dict()\n",
    "for stage in stages:\n",
    "    print(stage)\n",
    "    if b_stage + 1 == stage:\n",
    "        failure_rate[b_stage] = users / cum\n",
    "        cum -= users\n",
    "        users = 1\n",
    "        print('case 1', users, failure_rate)\n",
    "    elif b_stage == stage:\n",
    "        users += 1\n",
    "        print('case 2', users)\n",
    "    else:\n",
    "        for i in range(stage - b_stage):\n",
    "            failure_rate[b_stage + i] = 0\n",
    "            print(b_stage + i, failure_rate)\n",
    "        users = 1\n",
    "        print('case 3', users, failure_rate)\n",
    "    b_stage = stage\n",
    "failure_rate[stage] = users\n",
    "print(failure_rate)"
   ]
  },
  {
   "cell_type": "code",
   "execution_count": 77,
   "id": "palestinian-empty",
   "metadata": {},
   "outputs": [],
   "source": [
    "N = 4\n",
    "stages = [4,4,4,4,4]"
   ]
  },
  {
   "cell_type": "code",
   "execution_count": 92,
   "id": "neural-technique",
   "metadata": {},
   "outputs": [],
   "source": [
    "N = 5\n",
    "stages = [2, 1, 2, 6, 2, 4, 3, 3]"
   ]
  },
  {
   "cell_type": "code",
   "execution_count": 94,
   "id": "frequent-variety",
   "metadata": {},
   "outputs": [],
   "source": [
    "N = 7\n",
    "stages = [1, 3, 2, 2, 1, 5]"
   ]
  },
  {
   "cell_type": "code",
   "execution_count": 96,
   "id": "vocal-woman",
   "metadata": {},
   "outputs": [
    {
     "name": "stdout",
     "output_type": "stream",
     "text": [
      "stage 1 : 2 / 6\n",
      "{1: 0.3333333333333333}\n",
      "stage 2 : 2 / 4\n",
      "{1: 0.3333333333333333, 2: 0.5}\n",
      "stage 3 : 1 / 2\n",
      "{1: 0.3333333333333333, 2: 0.5, 3: 0.5}\n",
      "stage 4 : 0 / 1\n",
      "{1: 0.3333333333333333, 2: 0.5, 3: 0.5, 4: 0.0}\n",
      "stage 5 : 1 / 1\n",
      "{1: 0.3333333333333333, 2: 0.5, 3: 0.5, 4: 0.0, 5: 1.0}\n",
      "{1: 0.3333333333333333, 2: 0.5, 3: 0.5, 4: 0.0, 5: 1.0, 6: 0}\n",
      "{1: 0.3333333333333333, 2: 0.5, 3: 0.5, 4: 0.0, 5: 1.0, 6: 0, 7: 0}\n"
     ]
    }
   ],
   "source": [
    "cum = len(stages)\n",
    "failure_rate = dict()\n",
    "for stage in range(1, N + 1):\n",
    "    if cum != 0:\n",
    "        users = stages.count(stage)\n",
    "        print('stage %d : %d / %d' % (stage, users, cum))\n",
    "        failure_rate[stage] = users / cum\n",
    "        cum -= users\n",
    "    else:\n",
    "        failure_rate[stage] = 0\n",
    "    print(failure_rate)"
   ]
  },
  {
   "cell_type": "code",
   "execution_count": 97,
   "id": "appropriate-prison",
   "metadata": {},
   "outputs": [],
   "source": [
    "def solution(N, stages):\n",
    "    cum = len(stages)\n",
    "    failure_rate = dict()\n",
    "    for stage in range(1, N + 1):\n",
    "        if cum != 0:\n",
    "            users = stages.count(stage)\n",
    "            failure_rate[stage] = users / cum\n",
    "            cum -= users\n",
    "        else:\n",
    "            failure_rate[stage] = 0\n",
    "    answer = sorted(failure_rate, key=lambda x : failure_rate[x], reverse=True)\n",
    "    return answer"
   ]
  },
  {
   "cell_type": "code",
   "execution_count": 98,
   "id": "heated-victoria",
   "metadata": {},
   "outputs": [
    {
     "data": {
      "text/plain": [
       "[3, 4, 2, 1, 5]"
      ]
     },
     "execution_count": 98,
     "metadata": {},
     "output_type": "execute_result"
    }
   ],
   "source": [
    "N = 5\n",
    "stages = [2, 1, 2, 6, 2, 4, 3, 3]\n",
    "solution(N, stages)"
   ]
  }
 ],
 "metadata": {
  "kernelspec": {
   "display_name": "Python 3",
   "language": "python",
   "name": "python3"
  },
  "language_info": {
   "codemirror_mode": {
    "name": "ipython",
    "version": 3
   },
   "file_extension": ".py",
   "mimetype": "text/x-python",
   "name": "python",
   "nbconvert_exporter": "python",
   "pygments_lexer": "ipython3",
   "version": "3.8.5"
  },
  "toc": {
   "base_numbering": 1,
   "nav_menu": {},
   "number_sections": true,
   "sideBar": true,
   "skip_h1_title": false,
   "title_cell": "Table of Contents",
   "title_sidebar": "Contents",
   "toc_cell": false,
   "toc_position": {},
   "toc_section_display": true,
   "toc_window_display": false
  }
 },
 "nbformat": 4,
 "nbformat_minor": 5
}
