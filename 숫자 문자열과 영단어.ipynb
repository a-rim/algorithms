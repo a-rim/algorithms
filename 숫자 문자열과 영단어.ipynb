{
 "cells": [
  {
   "cell_type": "markdown",
   "id": "informative-sharp",
   "metadata": {},
   "source": [
    "**문제 설명**\n",
    "\n",
    "네오와 프로도가 숫자놀이를 하고 있습니다. 네오가 프로도에게 숫자를 건넬 때 일부 자릿수를 영단어로 바꾼 카드를 건네주면 프로도는 원래 숫자를 찾는 게임입니다.\n",
    "\n",
    "다음은 숫자의 일부 자릿수를 영단어로 바꾸는 예시입니다.\n",
    "\n",
    "- 1478 → \"one4seveneight\"\n",
    "- 234567 → \"23four5six7\"\n",
    "- 10203 → \"1zerotwozero3\"\n",
    "이렇게 숫자의 일부 자릿수가 영단어로 바뀌어졌거나, 혹은 바뀌지 않고 그대로인 문자열 s가 매개변수로 주어집니다. s가 의미하는 원래 숫자를 return 하도록 solution 함수를 완성해주세요.\n",
    "\n",
    "참고로 각 숫자에 대응되는 영단어는 다음 표와 같습니다.\n",
    "\n",
    "숫자|영단어\n",
    "---|---\n",
    "0|zero\n",
    "1|one\n",
    "2|two\n",
    "3|three\n",
    "4|four\n",
    "5|five\n",
    "6|six\n",
    "7|seven\n",
    "8|eight\n",
    "9|nine"
   ]
  },
  {
   "cell_type": "markdown",
   "id": "freelance-maldives",
   "metadata": {},
   "source": [
    "**제한 사항**\n",
    "- 1 ≤ s의 길이 ≤ 50\n",
    "- s가 \"zero\" 또는 \"0\"으로 시작하는 경우는 주어지지 않습니다.\n",
    "- return 값이 1 이상 2,000,000,000 이하의 정수가 되는 올바른 입력만 s로 주어집니다."
   ]
  },
  {
   "cell_type": "markdown",
   "id": "after-mounting",
   "metadata": {},
   "source": [
    "**입출력 예**\n",
    "\n",
    "s|result\n",
    "---|---\n",
    "\"one4seveneight\"|1478\n",
    "\"23four5six7\"|234567\n",
    "\"2three45sixseven\"|234567\n",
    "\"123\"|123\n",
    "\n",
    "입출력 예 #2와 #3과 같이 같은 정답을 가리키는 문자열이 여러 가지가 나올 수 있습니다."
   ]
  },
  {
   "cell_type": "code",
   "execution_count": 2,
   "id": "perceived-identification",
   "metadata": {},
   "outputs": [],
   "source": [
    "s = \"one4seveneight\""
   ]
  },
  {
   "cell_type": "code",
   "execution_count": 10,
   "id": "instructional-efficiency",
   "metadata": {},
   "outputs": [],
   "source": [
    "def solution(s):\n",
    "    answer = ''\n",
    "    alpha = ''\n",
    "    num_dict = {'zero':'0', 'one':'1', 'two':'2', 'three':'3', 'four':'4', 'five':'5',\n",
    "            'six':'6', 'seven':'7', 'eight':'8', 'nine':'9'}\n",
    "    for i in s:\n",
    "        if i.isdigit():\n",
    "            answer += i\n",
    "        else:\n",
    "            alpha += i\n",
    "            if alpha in num_dict:\n",
    "                answer += num_dict[alpha]\n",
    "                alpha = ''\n",
    "    return int(answer)"
   ]
  },
  {
   "cell_type": "code",
   "execution_count": 12,
   "id": "medieval-apparatus",
   "metadata": {},
   "outputs": [],
   "source": [
    "def solution(s):\n",
    "    num_dict = {'zero':'0', 'one':'1', 'two':'2', 'three':'3', 'four':'4', 'five':'5',\n",
    "            'six':'6', 'seven':'7', 'eight':'8', 'nine':'9'}\n",
    "    answer = s\n",
    "    for alpha, num in num_dict.items():\n",
    "        answer = answer.replace(alpha, num)\n",
    "    return int(answer)"
   ]
  },
  {
   "cell_type": "code",
   "execution_count": 13,
   "id": "opened-alfred",
   "metadata": {},
   "outputs": [
    {
     "data": {
      "text/plain": [
       "1478"
      ]
     },
     "execution_count": 13,
     "metadata": {},
     "output_type": "execute_result"
    }
   ],
   "source": [
    "solution(s)"
   ]
  }
 ],
 "metadata": {
  "kernelspec": {
   "display_name": "Python 3",
   "language": "python",
   "name": "python3"
  },
  "language_info": {
   "codemirror_mode": {
    "name": "ipython",
    "version": 3
   },
   "file_extension": ".py",
   "mimetype": "text/x-python",
   "name": "python",
   "nbconvert_exporter": "python",
   "pygments_lexer": "ipython3",
   "version": "3.8.5"
  },
  "toc": {
   "base_numbering": 1,
   "nav_menu": {},
   "number_sections": true,
   "sideBar": true,
   "skip_h1_title": false,
   "title_cell": "Table of Contents",
   "title_sidebar": "Contents",
   "toc_cell": false,
   "toc_position": {},
   "toc_section_display": true,
   "toc_window_display": false
  }
 },
 "nbformat": 4,
 "nbformat_minor": 5
}
