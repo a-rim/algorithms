{
 "cells": [
  {
   "cell_type": "code",
   "execution_count": 1,
   "id": "fewer-avenue",
   "metadata": {},
   "outputs": [],
   "source": [
    "a = [\"ryan con\", \"ryan con\", \"ryan con\", \"ryan con\"]"
   ]
  },
  {
   "cell_type": "code",
   "execution_count": 2,
   "id": "exposed-piece",
   "metadata": {},
   "outputs": [
    {
     "data": {
      "text/plain": [
       "{'ryan con'}"
      ]
     },
     "execution_count": 2,
     "metadata": {},
     "output_type": "execute_result"
    }
   ],
   "source": [
    "set(a)"
   ]
  },
  {
   "cell_type": "code",
   "execution_count": 3,
   "id": "dominican-migration",
   "metadata": {},
   "outputs": [
    {
     "data": {
      "text/plain": [
       "['ryan', 'con']"
      ]
     },
     "execution_count": 3,
     "metadata": {},
     "output_type": "execute_result"
    }
   ],
   "source": [
    "\"ryan con\".split(' ')"
   ]
  },
  {
   "cell_type": "code",
   "execution_count": 4,
   "id": "revolutionary-filling",
   "metadata": {},
   "outputs": [],
   "source": [
    "id_list = [\"muzi\", \"frodo\", \"apeach\", \"neo\"]\n",
    "report = [\"muzi frodo\",\"apeach frodo\",\"frodo neo\",\"muzi neo\",\"apeach muzi\",\"frodo neo\",\"muzi neo\"]"
   ]
  },
  {
   "cell_type": "code",
   "execution_count": 15,
   "id": "noted-order",
   "metadata": {},
   "outputs": [],
   "source": [
    "# 24개 중 8개 시간초과\n",
    "def solution(id_list, report, k):\n",
    "    report = list(set(report))\n",
    "    print(report)\n",
    "    warn_list = []\n",
    "    stop_list = []\n",
    "    answer = []\n",
    "    \n",
    "    for rep in report:\n",
    "        user1, user2 = rep.split(' ')\n",
    "        warn_list.append(user2)\n",
    "    print(warn_list)\n",
    "    \n",
    "    for user in id_list:\n",
    "        if warn_list.count(user) >= k:\n",
    "            stop_list.append(user)\n",
    "    print(stop_list)\n",
    "    \n",
    "    for user in id_list:\n",
    "        cnt = 0\n",
    "        for rep in report:\n",
    "            user1, user2 = rep.split(' ')\n",
    "            if user1 == user and user2 in stop_list:\n",
    "                cnt += 1\n",
    "        answer.append(cnt)\n",
    "        \n",
    "    return answer"
   ]
  },
  {
   "cell_type": "code",
   "execution_count": 16,
   "id": "biblical-capitol",
   "metadata": {
    "scrolled": true
   },
   "outputs": [
    {
     "name": "stdout",
     "output_type": "stream",
     "text": [
      "['muzi neo', 'apeach muzi', 'muzi frodo', 'apeach frodo', 'frodo neo']\n",
      "['neo', 'muzi', 'frodo', 'frodo', 'neo']\n",
      "['frodo', 'neo']\n"
     ]
    },
    {
     "data": {
      "text/plain": [
       "[2, 1, 1, 0]"
      ]
     },
     "execution_count": 16,
     "metadata": {},
     "output_type": "execute_result"
    }
   ],
   "source": [
    "solution(id_list, report, 2)"
   ]
  },
  {
   "cell_type": "code",
   "execution_count": 68,
   "id": "normal-underground",
   "metadata": {},
   "outputs": [],
   "source": [
    "def solution(id_list, report, k):\n",
    "    rep_dict = {name:[] for name in id_list}\n",
    "    rep_cnt = {name:0 for name in id_list}\n",
    "    answer = []\n",
    "    \n",
    "    for rep in set(report):\n",
    "        user1, user2 = rep.split(' ')\n",
    "        rep_dict[user1].append(user2)\n",
    "        rep_cnt[user2] += 1\n",
    "    print(rep_dict)\n",
    "    print(rep_cnt)\n",
    "    \n",
    "    for user1 in id_list:\n",
    "        cnt = 0\n",
    "        for user2 in rep_dict[user1]:\n",
    "            if rep_cnt[user2] >= k:\n",
    "                cnt += 1\n",
    "        answer.append(cnt)\n",
    "        \n",
    "    return answer"
   ]
  },
  {
   "cell_type": "code",
   "execution_count": 69,
   "id": "greatest-dominant",
   "metadata": {
    "scrolled": true
   },
   "outputs": [
    {
     "name": "stdout",
     "output_type": "stream",
     "text": [
      "{'muzi': ['neo', 'frodo'], 'frodo': ['neo'], 'apeach': ['muzi', 'frodo'], 'neo': []}\n",
      "{'muzi': 1, 'frodo': 2, 'apeach': 0, 'neo': 2}\n"
     ]
    },
    {
     "data": {
      "text/plain": [
       "[2, 1, 1, 0]"
      ]
     },
     "execution_count": 69,
     "metadata": {},
     "output_type": "execute_result"
    }
   ],
   "source": [
    "solution(id_list, report, 2)"
   ]
  },
  {
   "cell_type": "code",
   "execution_count": null,
   "id": "swiss-herald",
   "metadata": {},
   "outputs": [],
   "source": []
  }
 ],
 "metadata": {
  "kernelspec": {
   "display_name": "Python 3",
   "language": "python",
   "name": "python3"
  },
  "language_info": {
   "codemirror_mode": {
    "name": "ipython",
    "version": 3
   },
   "file_extension": ".py",
   "mimetype": "text/x-python",
   "name": "python",
   "nbconvert_exporter": "python",
   "pygments_lexer": "ipython3",
   "version": "3.8.5"
  },
  "toc": {
   "base_numbering": 1,
   "nav_menu": {},
   "number_sections": true,
   "sideBar": true,
   "skip_h1_title": false,
   "title_cell": "Table of Contents",
   "title_sidebar": "Contents",
   "toc_cell": false,
   "toc_position": {},
   "toc_section_display": true,
   "toc_window_display": false
  }
 },
 "nbformat": 4,
 "nbformat_minor": 5
}
