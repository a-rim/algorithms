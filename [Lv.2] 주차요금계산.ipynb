{
 "cells": [
  {
   "cell_type": "markdown",
   "id": "premium-supply",
   "metadata": {},
   "source": [
    "## Problem\n",
    "\n",
    "00:00부터 23:59까지의 입/출차 내역을 바탕으로 차량별 누적 주차 시간을 계산하여 요금을 일괄로 정산\n",
    "\n",
    "- 기본 시간 이하면, 기본 요금 청구\n",
    "- 기본 시간 초과하면 기본 요금 + 단위시간 * 단위 요금\n",
    "- 이용 시간은 올림하여 단위 시간과 비교\n",
    "- 차량 번호가 작은 자동차부터 청구할 주차 요금을 차례대로 정수 배열에 담아서 return\n",
    "- 동일한 차량이 두번 이용할 수 있음\n",
    "\n",
    "**[input]**\n",
    "\n",
    "- **fees** : **[기본 시간, 기본 요금, 단위 시간, 단위 요금]** 의 배열 (단위:분,원)\n",
    "- **records** : “시각 차량번호 내역(IN/OUT)” 형식의 배열. 하루 동안의 입/출차 기록\n",
    "    - **시각** : HH:MM형식. 00:00 ~ 23:59\n",
    "    - **차량번호** : 길이 4의 문자열\n",
    "    - **내역** : IN은 입차, OUT은 출차\n",
    "    - 입차된 후에 출차된 내역이 없다면, 23:59에 출차된 것으로 간주"
   ]
  },
  {
   "cell_type": "markdown",
   "id": "mechanical-serve",
   "metadata": {},
   "source": [
    "## Solution"
   ]
  },
  {
   "cell_type": "code",
   "execution_count": 45,
   "id": "posted-dallas",
   "metadata": {},
   "outputs": [],
   "source": [
    "import math\n",
    "def solution(fees, records):\n",
    "    answer = {}\n",
    "    \n",
    "    # [시각, 차량번호, 입출고]로 구성된 2차리스트 / 차량번호, 시간 순으로 정렬 / 시간은 분단위로 변경\n",
    "    recordsList = []\n",
    "    for rec in records:\n",
    "        time, num, io = rec.split()\n",
    "        hh, mm = time.split(':')\n",
    "        recordsList.append([(int(hh) * 60 + int(mm)), num, io])\n",
    "    recordsList = sorted(recordsList, key=lambda x:(x[1],x[0]))\n",
    "    print(recordsList)\n",
    "    \n",
    "    # 누적 주차 시간\n",
    "    i = 0\n",
    "    while i < len(recordsList):\n",
    "        num = recordsList[i][1]\n",
    "        if i == len(recordsList) - 1:\n",
    "            in_time, out_time = recordsList[i][0], (23 * 60 + 59)\n",
    "            i += 1\n",
    "        elif num == recordsList[i+1][1]:\n",
    "            in_time, out_time = recordsList[i][0], recordsList[i+1][0]\n",
    "            i += 2\n",
    "        else:\n",
    "            in_time, out_time = recordsList[i][0], (23 * 60 + 59)\n",
    "            i += 1\n",
    "        diff = out_time - in_time\n",
    "        answer[num] = answer.get(num, 0) + diff\n",
    "        print(i, num, in_time, out_time, diff, answer[num])\n",
    "    \n",
    "    # 주차 요금 계산\n",
    "    for num, cum_time in answer.items():\n",
    "        print(num, cum_time, fees[0])\n",
    "        if cum_time <= fees[0]:\n",
    "            answer[num] = fees[1]\n",
    "        else:\n",
    "            answer[num] = fees[1] + math.ceil((cum_time - fees[0]) / fees[2]) * fees[3]\n",
    "            print(fees[1], '+ ((', cum_time, '-', fees[0], ') /', fees[2], ') *', fees[3], '=', answer[num])\n",
    "            \n",
    "    \n",
    "    return [value for key, value in sorted(answer.items())]"
   ]
  },
  {
   "cell_type": "markdown",
   "id": "lightweight-baptist",
   "metadata": {},
   "source": [
    "## Test Data"
   ]
  },
  {
   "cell_type": "markdown",
   "id": "harmful-necessity",
   "metadata": {},
   "source": [
    "### example1\n",
    "[14600, 34400, 5000]"
   ]
  },
  {
   "cell_type": "code",
   "execution_count": 46,
   "id": "emerging-gentleman",
   "metadata": {},
   "outputs": [],
   "source": [
    "fees = [180, 5000, 10, 600]\n",
    "records = [\"05:34 5961 IN\", \"06:00 0000 IN\", \"06:34 0000 OUT\", \"07:59 5961 OUT\", \"07:59 0148 IN\", \"18:59 0000 IN\", \"19:09 0148 OUT\", \"22:59 5961 IN\", \"23:00 5961 OUT\"]"
   ]
  },
  {
   "cell_type": "code",
   "execution_count": 47,
   "id": "surgical-comment",
   "metadata": {
    "scrolled": true
   },
   "outputs": [
    {
     "name": "stdout",
     "output_type": "stream",
     "text": [
      "[[360, '0000', 'IN'], [394, '0000', 'OUT'], [1139, '0000', 'IN'], [479, '0148', 'IN'], [1149, '0148', 'OUT'], [334, '5961', 'IN'], [479, '5961', 'OUT'], [1379, '5961', 'IN'], [1380, '5961', 'OUT']]\n",
      "2 0000 360 394 34 34\n",
      "3 0000 1139 1439 300 334\n",
      "5 0148 479 1149 670 670\n",
      "7 5961 334 479 145 145\n",
      "9 5961 1379 1380 1 146\n",
      "0000 334 180\n",
      "5000 + (( 334 - 180 ) / 10 ) * 600 = 14600\n",
      "0148 670 180\n",
      "5000 + (( 670 - 180 ) / 10 ) * 600 = 34400\n",
      "5961 146 180\n"
     ]
    },
    {
     "data": {
      "text/plain": [
       "[14600, 34400, 5000]"
      ]
     },
     "execution_count": 47,
     "metadata": {},
     "output_type": "execute_result"
    }
   ],
   "source": [
    "solution(fees, records)"
   ]
  },
  {
   "cell_type": "markdown",
   "id": "extended-absolute",
   "metadata": {},
   "source": [
    "----"
   ]
  },
  {
   "cell_type": "markdown",
   "id": "universal-queens",
   "metadata": {},
   "source": [
    "### example2\n",
    "[0, 591]"
   ]
  },
  {
   "cell_type": "code",
   "execution_count": 48,
   "id": "honey-fundamental",
   "metadata": {},
   "outputs": [],
   "source": [
    "fees = [120, 0, 60, 591]\n",
    "records = [\"16:00 3961 IN\",\"16:00 0202 IN\",\"18:00 3961 OUT\",\"18:00 0202 OUT\",\"23:58 3961 IN\"]"
   ]
  },
  {
   "cell_type": "code",
   "execution_count": 49,
   "id": "mediterranean-helmet",
   "metadata": {
    "scrolled": true
   },
   "outputs": [
    {
     "name": "stdout",
     "output_type": "stream",
     "text": [
      "[[960, '0202', 'IN'], [1080, '0202', 'OUT'], [960, '3961', 'IN'], [1080, '3961', 'OUT'], [1438, '3961', 'IN']]\n",
      "2 0202 960 1080 120 120\n",
      "4 3961 960 1080 120 120\n",
      "5 3961 1438 1439 1 121\n",
      "0202 120 120\n",
      "3961 121 120\n",
      "0 + (( 121 - 120 ) / 60 ) * 591 = 591\n"
     ]
    },
    {
     "data": {
      "text/plain": [
       "[0, 591]"
      ]
     },
     "execution_count": 49,
     "metadata": {},
     "output_type": "execute_result"
    }
   ],
   "source": [
    "solution(fees, records)"
   ]
  },
  {
   "cell_type": "markdown",
   "id": "detected-tactics",
   "metadata": {},
   "source": [
    "----"
   ]
  },
  {
   "cell_type": "markdown",
   "id": "atmospheric-sussex",
   "metadata": {},
   "source": [
    "### example3\n",
    "[14841]"
   ]
  },
  {
   "cell_type": "code",
   "execution_count": 50,
   "id": "operational-sullivan",
   "metadata": {},
   "outputs": [],
   "source": [
    "fees = [1, 461, 1, 10]\n",
    "records = [\"00:00 1234 IN\"]"
   ]
  },
  {
   "cell_type": "code",
   "execution_count": 51,
   "id": "charged-culture",
   "metadata": {},
   "outputs": [
    {
     "name": "stdout",
     "output_type": "stream",
     "text": [
      "[[0, '1234', 'IN']]\n",
      "1 1234 0 1439 1439 1439\n",
      "1234 1439 1\n",
      "461 + (( 1439 - 1 ) / 1 ) * 10 = 14841\n"
     ]
    },
    {
     "data": {
      "text/plain": [
       "[14841]"
      ]
     },
     "execution_count": 51,
     "metadata": {},
     "output_type": "execute_result"
    }
   ],
   "source": [
    "solution(fees, records)"
   ]
  },
  {
   "cell_type": "code",
   "execution_count": null,
   "id": "varying-certification",
   "metadata": {},
   "outputs": [],
   "source": []
  }
 ],
 "metadata": {
  "kernelspec": {
   "display_name": "Python 3",
   "language": "python",
   "name": "python3"
  },
  "language_info": {
   "codemirror_mode": {
    "name": "ipython",
    "version": 3
   },
   "file_extension": ".py",
   "mimetype": "text/x-python",
   "name": "python",
   "nbconvert_exporter": "python",
   "pygments_lexer": "ipython3",
   "version": "3.8.5"
  },
  "toc": {
   "base_numbering": 1,
   "nav_menu": {},
   "number_sections": true,
   "sideBar": true,
   "skip_h1_title": false,
   "title_cell": "Table of Contents",
   "title_sidebar": "Contents",
   "toc_cell": false,
   "toc_position": {},
   "toc_section_display": true,
   "toc_window_display": false
  }
 },
 "nbformat": 4,
 "nbformat_minor": 5
}
