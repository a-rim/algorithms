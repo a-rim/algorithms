{
 "cells": [
  {
   "cell_type": "markdown",
   "id": "continent-priest",
   "metadata": {},
   "source": [
    "**문제 설명**\n",
    "\n",
    "Leo는 카펫을 사러 갔다가 아래 그림과 같이 중앙에는 노란색으로 칠해져 있고 테두리 1줄은 갈색으로 칠해져 있는 격자 모양 카펫을 봤습니다. Leo는 집으로 돌아와서 아까 본 카펫의 노란색과 갈색으로 색칠된 격자의 개수는 기억했지만, 전체 카펫의 크기는 기억하지 못했습니다. Leo가 본 카펫에서 갈색 격자의 수 brown, 노란색 격자의 수 yellow가 매개변수로 주어질 때 카펫의 가로, 세로 크기를 순서대로 배열에 담아 return 하도록 solution 함수를 작성해주세요."
   ]
  },
  {
   "cell_type": "markdown",
   "id": "genetic-multimedia",
   "metadata": {},
   "source": [
    "**제한 사항**\n",
    "- 갈색 격자의 수 brown은 8 이상 5,000 이하인 자연수입니다.\n",
    "- 노란색 격자의 수 yellow는 1 이상 2,000,000 이하인 자연수입니다.\n",
    "- 카펫의 가로 길이는 세로 길이와 같거나, 세로 길이보다 깁니다."
   ]
  },
  {
   "attachments": {
    "carpet.png": {
     "image/png": "[encoded data removed]"
    }
   },
   "cell_type": "markdown",
   "id": "surgical-consent",
   "metadata": {},
   "source": [
    "![carpet.png](attachment:carpet.png)"
   ]
  },
  {
   "cell_type": "markdown",
   "id": "successful-lover",
   "metadata": {},
   "source": [
    "brown|yellow|return\n",
    "---|---|---\n",
    "10|2|[4, 3]\n",
    "8|1|[3, 3]\n",
    "24|24|[8, 6]"
   ]
  },
  {
   "cell_type": "markdown",
   "id": "rational-jamaica",
   "metadata": {},
   "source": [
    "# 가능한 카펫의 가로, 세로 크기 - brown 활용"
   ]
  },
  {
   "cell_type": "code",
   "execution_count": 5,
   "id": "referenced-collection",
   "metadata": {},
   "outputs": [
    {
     "name": "stdout",
     "output_type": "stream",
     "text": [
      "2 [3, 11.0]\n",
      "3 [4, 10.0]\n",
      "4 [5, 9.0]\n",
      "5 [6, 8.0]\n",
      "6 [7, 7.0]\n",
      "7 [8, 6.0]\n",
      "8 [9, 5.0]\n",
      "9 [10, 4.0]\n",
      "10 [11, 3.0]\n",
      "11 [12, 2.0]\n"
     ]
    }
   ],
   "source": [
    "brown = 24\n",
    "for i in range(2, brown//2):\n",
    "    print(i, [i + 1, brown/2 - i + 1])"
   ]
  },
  {
   "cell_type": "markdown",
   "id": "breeding-script",
   "metadata": {},
   "source": [
    "6 * 8 과 8 * 6은 같은 것이므로 7 * 7까지만 계산하면 된다"
   ]
  },
  {
   "cell_type": "code",
   "execution_count": 7,
   "id": "amazing-beginning",
   "metadata": {},
   "outputs": [
    {
     "name": "stdout",
     "output_type": "stream",
     "text": [
      "2 [3, 11.0]\n",
      "3 [4, 10.0]\n",
      "4 [5, 9.0]\n",
      "5 [6, 8.0]\n",
      "6 [7, 7.0]\n"
     ]
    }
   ],
   "source": [
    "for i in range(2, brown//4 + 1):\n",
    "    print(i, [i + 1, brown/2 - i + 1])"
   ]
  },
  {
   "cell_type": "markdown",
   "id": "grand-stockholm",
   "metadata": {},
   "source": [
    "# 주어진 yellow 수와 맞는지 확인"
   ]
  },
  {
   "cell_type": "code",
   "execution_count": 10,
   "id": "funny-penetration",
   "metadata": {},
   "outputs": [
    {
     "name": "stdout",
     "output_type": "stream",
     "text": [
      "2 [3, 11.0]\n",
      "yellow : 1 * 9 = 9\n",
      "3 [4, 10.0]\n",
      "yellow : 2 * 8 = 16\n",
      "4 [5, 9.0]\n",
      "yellow : 3 * 7 = 21\n",
      "5 [6, 8.0]\n",
      "yellow : 4 * 6 = 24\n",
      "6 [7, 7.0]\n",
      "yellow : 5 * 5 = 25\n"
     ]
    }
   ],
   "source": [
    "for i in range(2, brown//4 + 1):\n",
    "    print(i, [i + 1, brown/2 - i + 1])\n",
    "    print('yellow : %d * %d = %d' % (i - 1, brown/2 - i - 1, (i -1)*(brown/2 - i - 1)))"
   ]
  },
  {
   "cell_type": "markdown",
   "id": "outstanding-version",
   "metadata": {},
   "source": [
    "# 함수화\n",
    "가로가 세로보다 크거나 같아야함 유의"
   ]
  },
  {
   "cell_type": "code",
   "execution_count": 11,
   "id": "pregnant-project",
   "metadata": {},
   "outputs": [],
   "source": [
    "def solution(brown, yellow):\n",
    "    for i in range(2, brown//4 + 1):\n",
    "        h, w = i + 1, brown/2 - i + 1\n",
    "        if (w - 2) * (h - 2) == yellow:\n",
    "            return [w, h]"
   ]
  },
  {
   "cell_type": "code",
   "execution_count": 12,
   "id": "verbal-toyota",
   "metadata": {},
   "outputs": [
    {
     "data": {
      "text/plain": [
       "[4.0, 3]"
      ]
     },
     "execution_count": 12,
     "metadata": {},
     "output_type": "execute_result"
    }
   ],
   "source": [
    "solution(10, 2)"
   ]
  },
  {
   "cell_type": "code",
   "execution_count": 13,
   "id": "injured-librarian",
   "metadata": {},
   "outputs": [
    {
     "data": {
      "text/plain": [
       "[3.0, 3]"
      ]
     },
     "execution_count": 13,
     "metadata": {},
     "output_type": "execute_result"
    }
   ],
   "source": [
    "solution(8, 1)"
   ]
  },
  {
   "cell_type": "code",
   "execution_count": 14,
   "id": "tutorial-increase",
   "metadata": {},
   "outputs": [
    {
     "data": {
      "text/plain": [
       "[8.0, 6]"
      ]
     },
     "execution_count": 14,
     "metadata": {},
     "output_type": "execute_result"
    }
   ],
   "source": [
    "solution(24, 24)"
   ]
  },
  {
   "cell_type": "markdown",
   "id": "social-crash",
   "metadata": {},
   "source": [
    "----"
   ]
  },
  {
   "cell_type": "code",
   "execution_count": null,
   "id": "effective-newton",
   "metadata": {},
   "outputs": [],
   "source": [
    "def solution(brown, yellow):\n",
    "    answer = []\n",
    "    for i in range(2, brown//4 + 1):\n",
    "        answer.append([i, brown/2 - i])\n",
    "    for h, w in answer:\n",
    "        if (w - 1) * (h - 1) == yellow:\n",
    "            return [w + 1, h + 1]"
   ]
  },
  {
   "cell_type": "code",
   "execution_count": 5,
   "id": "relevant-belarus",
   "metadata": {
    "ExecuteTime": {
     "end_time": "2021-02-05T02:19:53.235449Z",
     "start_time": "2021-02-05T02:19:53.229466Z"
    }
   },
   "outputs": [],
   "source": [
    "def solution(brown, yellow):\n",
    "    answer = []\n",
    "    for i in range(2, brown//4 + 1):\n",
    "        answer.append([i, brown/2 - i])\n",
    "        print(answer)\n",
    "    for h, w in answer:\n",
    "        print(w-1, h-1, yellow)\n",
    "        if (w - 1) * (h - 1) == yellow:\n",
    "            return [w + 1, h + 1]"
   ]
  },
  {
   "cell_type": "code",
   "execution_count": 6,
   "id": "following-spine",
   "metadata": {
    "ExecuteTime": {
     "end_time": "2021-02-05T02:19:53.618252Z",
     "start_time": "2021-02-05T02:19:53.609265Z"
    }
   },
   "outputs": [
    {
     "name": "stdout",
     "output_type": "stream",
     "text": [
      "[[2, 10.0]]\n",
      "[[2, 10.0], [3, 9.0]]\n",
      "[[2, 10.0], [3, 9.0], [4, 8.0]]\n",
      "[[2, 10.0], [3, 9.0], [4, 8.0], [5, 7.0]]\n",
      "[[2, 10.0], [3, 9.0], [4, 8.0], [5, 7.0], [6, 6.0]]\n",
      "9.0 1 24\n",
      "8.0 2 24\n",
      "7.0 3 24\n",
      "6.0 4 24\n"
     ]
    },
    {
     "data": {
      "text/plain": [
       "[8.0, 6]"
      ]
     },
     "execution_count": 6,
     "metadata": {},
     "output_type": "execute_result"
    }
   ],
   "source": [
    "solution(24,24)"
   ]
  }
 ],
 "metadata": {
  "kernelspec": {
   "display_name": "Python 3",
   "language": "python",
   "name": "python3"
  },
  "language_info": {
   "codemirror_mode": {
    "name": "ipython",
    "version": 3
   },
   "file_extension": ".py",
   "mimetype": "text/x-python",
   "name": "python",
   "nbconvert_exporter": "python",
   "pygments_lexer": "ipython3",
   "version": "3.8.5"
  },
  "toc": {
   "base_numbering": 1,
   "nav_menu": {},
   "number_sections": true,
   "sideBar": true,
   "skip_h1_title": false,
   "title_cell": "Table of Contents",
   "title_sidebar": "Contents",
   "toc_cell": false,
   "toc_position": {},
   "toc_section_display": true,
   "toc_window_display": false
  }
 },
 "nbformat": 4,
 "nbformat_minor": 5
}
