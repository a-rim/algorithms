{
 "cells": [
  {
   "cell_type": "markdown",
   "id": "neither-mileage",
   "metadata": {},
   "source": [
    "### 문제 설명\n",
    "로또 6/45(이하 '로또'로 표기)는 1부터 45까지의 숫자 중 6개를 찍어서 맞히는 대표적인 복권입니다. 아래는 로또의 순위를 정하는 방식입니다.\n",
    "\n",
    "순위|당첨 내용\n",
    "---|---\n",
    "1|6개 번호가 모두 일치\n",
    "2|5개 번호가 일치\n",
    "3|4개 번호가 일치\n",
    "4|3개 번호가 일치\n",
    "5|2개 번호가 일치\n",
    "6(낙첨)|그 외\n",
    "\n",
    "로또를 구매한 민우는 당첨 번호 발표일을 학수고대하고 있었습니다. 하지만, 민우의 동생이 로또에 낙서를 하여, 일부 번호를 알아볼 수 없게 되었습니다. 당첨 번호 발표 후, 민우는 자신이 구매했던 로또로 당첨이 가능했던 최고 순위와 최저 순위를 알아보고 싶어 졌습니다.\n",
    "알아볼 수 없는 번호를 0으로 표기하기로 하고, 민우가 구매한 로또 번호 6개가 44, 1, 0, 0, 31 25라고 가정해보겠습니다. 당첨 번호 6개가 31, 10, 45, 1, 6, 19라면, 당첨 가능한 최고 순위와 최저 순위의 한 예는 아래와 같습니다.\n",
    "\n",
    "당첨 번호|31|10|45|1|6|19|결과\n",
    "---|---|---|---|---|---|---|---\n",
    "최고 순위 번호|31|0→10|44|1|0→6|25|4개 번호 일치, 3등\n",
    "최저 순위 번호|31|0→11|44|1|0→7|25|2개 번호 일치, 5등\n",
    "\n",
    "- 순서와 상관없이, 구매한 로또에 당첨 번호와 일치하는 번호가 있으면 맞힌 걸로 인정됩니다.\n",
    "- 알아볼 수 없는 두 개의 번호를 각각 10, 6이라고 가정하면 3등에 당첨될 수 있습니다.\n",
    "    - 3등을 만드는 다른 방법들도 존재합니다. 하지만, 2등 이상으로 만드는 것은 불가능합니다.\n",
    "- 알아볼 수 없는 두 개의 번호를 각각 11, 7이라고 가정하면 5등에 당첨될 수 있습니다.\n",
    "    - 5등을 만드는 다른 방법들도 존재합니다. 하지만, 6등(낙첨)으로 만드는 것은 불가능합니다.\n",
    "   \n",
    "3등을 만드는 다른 방법들도 존재합니다. 하지만, 2등 이상으로 만드는 것은 불가능합니다.\n",
    "알아볼 수 없는 두 개의 번호를 각각 11, 7이라고 가정하면 5등에 당첨될 수 있습니다.\n",
    "5등을 만드는 다른 방법들도 존재합니다. 하지만, 6등(낙첨)으로 만드는 것은 불가능합니다.\n",
    "\n",
    "### 제한사항\n",
    "- lottos는 길이 6인 정수 배열입니다.\n",
    "- lottos의 모든 원소는 0 이상 45 이하인 정수입니다.\n",
    "    - 0은 알아볼 수 없는 숫자를 의미합니다.\n",
    "    - 0을 제외한 다른 숫자들은 lottos에 2개 이상 담겨있지 않습니다.\n",
    "    - lottos의 원소들은 정렬되어 있지 않을 수도 있습니다.\n",
    "- win_nums은 길이 6인 정수 배열입니다.\n",
    "- win_nums의 모든 원소는 1 이상 45 이하인 정수입니다.\n",
    "    - win_nums에는 같은 숫자가 2개 이상 담겨있지 않습니다.\n",
    "    - win_nums의 원소들은 정렬되어 있지 않을 수도 있습니다.\n",
    "\n",
    "### 입출력 예\n",
    "lottos|win_nums|result\n",
    "---|---|---\n",
    "[44, 1, 0, 0, 31, 25]|[31, 10, 45, 1, 6, 19]|[3, 5]\n",
    "[0, 0, 0, 0, 0, 0]|[38, 19, 20, 40, 15, 25]|[1, 6]\n",
    "[45, 4, 35, 20, 3, 9]|[20, 9, 3, 45, 4, 35]|[1, 1]\n",
    "\n",
    "**입출력 예 #1**\n",
    "문제 예시와 같습니다.\n",
    "\n",
    "**입출력 예 #2**\n",
    "알아볼 수 없는 번호들이 아래와 같았다면, 1등과 6등에 당첨될 수 있습니다.\n",
    "\n",
    "당첨 번호|38|19|20|40|15|25|결과\n",
    "---|---|---|---|---|---|--|---\n",
    "최고 순위 번호|0→38|0→19|0→20|0→40|0→15|0→25|6개 번호 일치, 1등\n",
    "최저 순위 번호|0→21|0→22|0→23|0→24|0→26|0→27|0개 번호 일치, 6등\n",
    "\n",
    "**입출력 예 #3**\n",
    "민우가 구매한 로또의 번호와 당첨 번호가 모두 일치하므로, 최고 순위와 최저 순위는 모두 1등입니다."
   ]
  },
  {
   "cell_type": "markdown",
   "id": "intensive-south",
   "metadata": {},
   "source": [
    "0의 개수 = count(0)\n",
    "나머지 일치하는 숫자 개수 = set.intersection(set)\n",
    "\n",
    "최소 일치개수 = 나머지 일치하는 숫자 개수\n",
    "최고 일치개수 = 0의개수 + 나머지 일치하는 숫자 개수\n",
    "\n",
    "등수 = 7 - 일치개수"
   ]
  },
  {
   "cell_type": "code",
   "execution_count": 3,
   "id": "numerical-radiation",
   "metadata": {},
   "outputs": [
    {
     "data": {
      "text/plain": [
       "{1, 31}"
      ]
     },
     "execution_count": 3,
     "metadata": {},
     "output_type": "execute_result"
    }
   ],
   "source": [
    "set(lottos).intersection(win_nums)"
   ]
  },
  {
   "cell_type": "code",
   "execution_count": 11,
   "id": "postal-model",
   "metadata": {},
   "outputs": [],
   "source": [
    "def solution(lottos, win_nums):\n",
    "    zeros = lottos.count(0)\n",
    "    cnt = len(set(lottos).intersection(win_nums))\n",
    "    answer = [7 - (zeros + cnt), 7 - cnt]\n",
    "    if answer[1] > 6:\n",
    "        answer[1] = 6\n",
    "    return answer"
   ]
  },
  {
   "cell_type": "code",
   "execution_count": 18,
   "id": "limited-running",
   "metadata": {},
   "outputs": [],
   "source": [
    "def solution(lottos, win_nums):\n",
    "    rank_dict = {0:6, 1:6, 2:5, 3:4, 4:3, 5:2, 6:1}\n",
    "    zeros = lottos.count(0)\n",
    "    cnt = len(set(lottos).intersection(win_nums))\n",
    "    answer = [rank_dict[zeros + cnt], rank_dict[cnt]]\n",
    "    return answer"
   ]
  },
  {
   "cell_type": "code",
   "execution_count": 19,
   "id": "digital-newspaper",
   "metadata": {},
   "outputs": [
    {
     "data": {
      "text/plain": [
       "[3, 5]"
      ]
     },
     "execution_count": 19,
     "metadata": {},
     "output_type": "execute_result"
    }
   ],
   "source": [
    "lottos = [44, 1, 0, 0, 31, 25]\n",
    "win_nums = [31, 10, 45, 1, 6, 19]\n",
    "solution(lottos, win_nums)"
   ]
  },
  {
   "cell_type": "code",
   "execution_count": 20,
   "id": "tracked-classics",
   "metadata": {},
   "outputs": [
    {
     "data": {
      "text/plain": [
       "[1, 6]"
      ]
     },
     "execution_count": 20,
     "metadata": {},
     "output_type": "execute_result"
    }
   ],
   "source": [
    "lottos = [0, 0, 0, 0, 0, 0]\n",
    "win_nums = [38, 19, 20, 40, 15, 25]\n",
    "solution(lottos, win_nums)"
   ]
  },
  {
   "cell_type": "code",
   "execution_count": 21,
   "id": "existing-slovak",
   "metadata": {},
   "outputs": [
    {
     "data": {
      "text/plain": [
       "[1, 1]"
      ]
     },
     "execution_count": 21,
     "metadata": {},
     "output_type": "execute_result"
    }
   ],
   "source": [
    "lottos = [45, 4, 35, 20, 3, 9]\n",
    "win_nums = [20, 9, 3, 45, 4, 35]\n",
    "solution(lottos, win_nums)"
   ]
  },
  {
   "cell_type": "code",
   "execution_count": null,
   "id": "increasing-preservation",
   "metadata": {},
   "outputs": [],
   "source": []
  }
 ],
 "metadata": {
  "kernelspec": {
   "display_name": "Python 3",
   "language": "python",
   "name": "python3"
  },
  "language_info": {
   "codemirror_mode": {
    "name": "ipython",
    "version": 3
   },
   "file_extension": ".py",
   "mimetype": "text/x-python",
   "name": "python",
   "nbconvert_exporter": "python",
   "pygments_lexer": "ipython3",
   "version": "3.8.5"
  },
  "toc": {
   "base_numbering": 1,
   "nav_menu": {},
   "number_sections": true,
   "sideBar": true,
   "skip_h1_title": false,
   "title_cell": "Table of Contents",
   "title_sidebar": "Contents",
   "toc_cell": false,
   "toc_position": {},
   "toc_section_display": true,
   "toc_window_display": false
  }
 },
 "nbformat": 4,
 "nbformat_minor": 5
}
